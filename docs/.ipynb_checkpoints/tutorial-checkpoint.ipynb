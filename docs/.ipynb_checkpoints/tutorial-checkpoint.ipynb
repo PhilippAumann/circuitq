{
 "cells": [
  {
   "cell_type": "markdown",
   "metadata": {},
   "source": [
    "# Tutorial\n",
    "\n",
    "This tutorial will guide through the creation and analysis of a superconducting circuit with CircuitQ. It shows some of the core functionalities of CircuitQ and demonstrates how to use them. While the variety of possible input circuits is high, we will here focus on the Fluxonium as an example. \n"
   ]
  },
  {
   "cell_type": "markdown",
   "metadata": {},
   "source": [
    "## Import statements\n",
    "\n",
    "First, import `circuitq` and `networkx`. The latter toolbox is required to construct the circuit graph.\n"
   ]
  },
  {
   "cell_type": "code",
   "execution_count": 1,
   "metadata": {},
   "outputs": [],
   "source": [
    "import circuitq as cq\n",
    "import networkx as nx"
   ]
  },
  {
   "cell_type": "markdown",
   "metadata": {},
   "source": [
    "It is also convenient to import `numpy` for the use of numerical expressions and `pyplot` to visualize some results."
   ]
  },
  {
   "cell_type": "code",
   "execution_count": 2,
   "metadata": {},
   "outputs": [],
   "source": [
    "import numpy as np\n",
    "import matplotlib.pyplot as plt"
   ]
  },
  {
   "cell_type": "markdown",
   "metadata": {},
   "source": [
    "## Create circuit graph"
   ]
  },
  {
   "cell_type": "markdown",
   "metadata": {},
   "source": [
    "A superconducting circuit can be related to a graph by relating all circuit elements between two nodes to an edge of the graph. Possible elements are capacitances (`'C'`), linear inductances (`'L'`) and Josephson junctions (`'J'`).\n",
    "\n",
    "Since multiple edges of such a graph can be in parallel we work with the `MultiGraph` class of `networkx`.\n",
    "\n",
    "Let's consider the Fluxonium as an example. To initialize the circuit, we execute the following:"
   ]
  },
  {
   "cell_type": "code",
   "execution_count": 3,
   "metadata": {},
   "outputs": [],
   "source": [
    "graph = nx.MultiGraph()\n",
    "graph.add_edge(0,1, element = 'C')\n",
    "graph.add_edge(0,1, element = 'J')\n",
    "graph.add_edge(0,1, element = 'L')\n",
    "\n",
    "circuit = cq.CircuitQ(graph)"
   ]
  },
  {
   "cell_type": "markdown",
   "metadata": {},
   "source": [
    "Here, we created a graph with three elements in between node 0 and node 1. The `CircuitQ` class is the core of the toolbox. An element of this class corresponds to a superconducting circuit. Ground nodes and charge offset nodes can be specified upon initialization. Please refer to the API reference for more details.\n",
    "\n",
    "CircuitQ's function `visualize_circuit_general()` can be used to visualize the graph."
   ]
  },
  {
   "cell_type": "markdown",
   "metadata": {},
   "source": [
    "## Symbolic Hamiltonian\n",
    "\n",
    "CircuitQ performs an automated quantization of the input circuit. It provides a symbolic `SymPy` expression for the corresponding circuit Hamiltonian."
   ]
  },
  {
   "cell_type": "code",
   "execution_count": 4,
   "metadata": {},
   "outputs": [
    {
     "data": {
      "text/latex": [
       "$\\displaystyle - E_{J010} \\cos{\\left(3.03853489761902 \\cdot 10^{15} \\Phi_{1} \\right)} + \\frac{\\left(\\Phi_{1} + \\tilde{\\Phi}_{010}\\right)^{2}}{2 L_{010}} + \\frac{0.5 q_{1}^{2}}{C_{01}}$"
      ],
      "text/plain": [
       "-E_{J010}*cos(3.03853489761902e+15*\\Phi_{1}) + (\\Phi_{1} + \\tilde{\\Phi}_{010})**2/(2*L_{010}) + 0.5*q_{1}**2/C_{01}"
      ]
     },
     "execution_count": 4,
     "metadata": {},
     "output_type": "execute_result"
    }
   ],
   "source": [
    "circuit.h"
   ]
  },
  {
   "cell_type": "markdown",
   "metadata": {},
   "source": [
    "## Parameters\n",
    "\n",
    "Besides the flux and charge variables $\\phi$ and $q$, the Hamiltonian contains system parameters, whose values can be changed to tune the circuit."
   ]
  },
  {
   "cell_type": "code",
   "execution_count": 5,
   "metadata": {},
   "outputs": [
    {
     "data": {
      "text/plain": [
       "[C_{01}, E_{J010}, L_{010}, \\tilde{\\Phi}_{010}]"
      ]
     },
     "execution_count": 5,
     "metadata": {},
     "output_type": "execute_result"
    }
   ],
   "source": [
    "circuit.h_parameters"
   ]
  },
  {
   "cell_type": "markdown",
   "metadata": {},
   "source": [
    "In this case it contains the capacity $C_{01}$, the Josephson energy $E_{J010}$ and the inductance $L_{010}$. During quantization, CircuitQ automatically detects inductive loops and assigns loop fluxes to them, which is represented by $\\tilde{\\Phi}_{010}$. If a charge offset would have been assigned upon initialization, it would also appear as a parameter $qo$.\n",
    "\n",
    "Let's assign a numerical value for the Josephson energy and the external flux"
   ]
  },
  {
   "cell_type": "code",
   "execution_count": 6,
   "metadata": {},
   "outputs": [],
   "source": [
    "EJ = circuit.c_v[\"E\"]/3\n",
    "phi_ext = np.pi*circuit.phi_0 "
   ]
  },
  {
   "cell_type": "markdown",
   "metadata": {},
   "source": [
    "`circuit.c_v` is a dictionary for characteristic parameter values. `circuit.phi_0` is the flux quantum, which we define as $\\frac{\\hbar}{2e}$. "
   ]
  },
  {
   "cell_type": "markdown",
   "metadata": {},
   "source": [
    "## Numerical Hamiltonian\n",
    "To analyze the circuit's quantum physical properties, a numerical representation of the Hamiltonian has to be generated."
   ]
  },
  {
   "cell_type": "code",
   "execution_count": 7,
   "metadata": {},
   "outputs": [],
   "source": [
    "h_num = circuit.get_numerical_hamiltonian(401, parameter_values=[False, EJ, False, phi_ext ])"
   ]
  },
  {
   "cell_type": "markdown",
   "metadata": {},
   "source": [
    "The method `get_numerical_hamiltonian()` takes the length of the matrices representing the flux and charge variables as the first parameter input. CircuitQ automatically performs the numerical implementation of the node variables either in the charge basis, in the flux basis or also in a combination of both - depending on the periodicity of the potential along the individual flux variables. In the exemplary case of the Fluxonium, the flux basis will be used due to the harmonic contribution of the linear inductance.\n",
    "\n",
    "To assign specific parameter values, use an input list for `paramter_values`, with the same order as the `h_parameters` list. If a values is set to `False`, a characteristic default value will be assigned to it. Optionally, the length of the numerical coordinate grid can be specified as well, see the API reference for more details.\n",
    "\n",
    "The numerical Hamiltonian is represented as a sparse `csr_matrix` from the `SciPy` package."
   ]
  },
  {
   "cell_type": "markdown",
   "metadata": {},
   "source": [
    "## Diagonalization\n",
    "\n",
    "To get the (lowest) eigenvalues and eigenstates of the numerical Hamiltonian, use `get_eigensystem()` which is a wrapper around `SciPy`'s `eigsh` function for sparse matrices."
   ]
  },
  {
   "cell_type": "code",
   "execution_count": 8,
   "metadata": {},
   "outputs": [],
   "source": [
    "eigv, eigs = circuit.get_eigensystem()"
   ]
  },
  {
   "cell_type": "markdown",
   "metadata": {},
   "source": [
    "Finally, we can plot the lowest eigenstates of the circuit."
   ]
  },
  {
   "cell_type": "code",
   "execution_count": 9,
   "metadata": {},
   "outputs": [
    {
     "data": {
      "image/png": "[encoded data removed]",
      "text/plain": [
       "<Figure size 504x360 with 1 Axes>"
      ]
     },
     "metadata": {
      "needs_background": "light"
     },
     "output_type": "display_data"
    }
   ],
   "source": [
    "plt.figure(figsize=(7,5))\n",
    "plt.plot(circuit.flux_list, circuit.potential, lw=1.5)\n",
    "for n in range(5):\n",
    "    plt.plot(circuit.flux_list, \n",
    "             eigv[n]+ abs(eigs[:,n])**2*2e-23 \n",
    "             ,label=\"Eigenstate \" +str(n))\n",
    "plt.legend()\n",
    "plt.xlabel(r\"$\\Phi$\")\n",
    "plt.ylabel(\"Energy\")\n",
    "plt.ylim(1e-24, 6e-24)\n",
    "plt.show()"
   ]
  },
  {
   "cell_type": "markdown",
   "metadata": {},
   "source": [
    "To operate the circuit as a qubit, a certain degree of the spectrum's anharmonicity is desired. CircuitQ provides a measure for this purpose:"
   ]
  },
  {
   "cell_type": "code",
   "execution_count": 10,
   "metadata": {},
   "outputs": [
    {
     "data": {
      "text/plain": [
       "1"
      ]
     },
     "execution_count": 10,
     "metadata": {},
     "output_type": "execute_result"
    }
   ],
   "source": [
    "circuit.get_spectrum_anharmonicity()"
   ]
  },
  {
   "cell_type": "markdown",
   "metadata": {},
   "source": [
    "## $T1$ time\n",
    "The robustness against decoherence is a crucial property of a circuit. For this purpose, we developed three measures to evaluate the $T1$ time contribution due to quasiparticle tunneling,"
   ]
  },
  {
   "cell_type": "code",
   "execution_count": 11,
   "metadata": {},
   "outputs": [
    {
     "name": "stdout",
     "output_type": "stream",
     "text": [
      "Quasiparticles noise contribution T1 = 2.272398e-05 s\n"
     ]
    }
   ],
   "source": [
    "T1_qp = circuit.get_T1_quasiparticles()\n",
    "print(\"Quasiparticles noise contribution T1 = {:e} s\".format(T1_qp))"
   ]
  },
  {
   "cell_type": "markdown",
   "metadata": {},
   "source": [
    "charge noise,"
   ]
  },
  {
   "cell_type": "code",
   "execution_count": 12,
   "metadata": {},
   "outputs": [
    {
     "name": "stdout",
     "output_type": "stream",
     "text": [
      "Charge noise contribution T1 = 1.891442e-04 s\n"
     ]
    }
   ],
   "source": [
    "T1_c = circuit.get_T1_charge()\n",
    "print(\"Charge noise contribution T1 = {:e} s\".format(T1_c))"
   ]
  },
  {
   "cell_type": "markdown",
   "metadata": {},
   "source": [
    "and flux noise"
   ]
  },
  {
   "cell_type": "code",
   "execution_count": 13,
   "metadata": {},
   "outputs": [
    {
     "name": "stdout",
     "output_type": "stream",
     "text": [
      "Flux noise contribution T1 = 1.895929e-02 s\n"
     ]
    }
   ],
   "source": [
    "T1_f = circuit.get_T1_flux()\n",
    "print(\"Flux noise contribution T1 = {:e} s\".format(T1_f))"
   ]
  },
  {
   "cell_type": "markdown",
   "metadata": {},
   "source": [
    "This leads to an overall $T1$ time measure of:"
   ]
  },
  {
   "cell_type": "code",
   "execution_count": 14,
   "metadata": {},
   "outputs": [
    {
     "name": "stdout",
     "output_type": "stream",
     "text": [
      "Total T1 = 2.026503e-05 s\n"
     ]
    }
   ],
   "source": [
    "print(\"Total T1 = {:e} s\".format( 1/( 1/T1_qp + 1/T1_c + 1/T1_f)))"
   ]
  }
 ],
 "metadata": {
  "kernelspec": {
   "display_name": "Python 3",
   "language": "python",
   "name": "python3"
  },
  "language_info": {
   "codemirror_mode": {
    "name": "ipython",
    "version": 3
   },
   "file_extension": ".py",
   "mimetype": "text/x-python",
   "name": "python",
   "nbconvert_exporter": "python",
   "pygments_lexer": "ipython3",
   "version": "3.6.13"
  }
 },
 "nbformat": 4,
 "nbformat_minor": 2
}
