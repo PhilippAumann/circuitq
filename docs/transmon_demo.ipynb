{
 "cells": [
  {
   "cell_type": "markdown",
   "metadata": {},
   "source": [
    "# Quick Demo\n",
    "\n",
    "This notebook is a brief domonstration of the usage of CircuitQ for the Transmon as an exemplary circuit.\n",
    "\n",
    "Please refer to the Tutorial section for more details."
   ]
  },
  {
   "cell_type": "code",
   "execution_count": 1,
   "metadata": {},
   "outputs": [],
   "source": [
    "import circuitq as cq\n",
    "\n",
    "import networkx as nx\n",
    "import numpy as np\n",
    "import matplotlib.pyplot as plt"
   ]
  },
  {
   "cell_type": "markdown",
   "metadata": {},
   "source": [
    "## Exemplary Circuit: Transmon\n",
    "\n",
    "#### Create circuit\n",
    "\n",
    "<img src=\"circuit_figures/transmon_circuit.png\" alt=\"Transmon Circuit\" width=\"200\"/>\n"
   ]
  },
  {
   "cell_type": "code",
   "execution_count": 2,
   "metadata": {},
   "outputs": [],
   "source": [
    "graph = nx.MultiGraph()\n",
    "graph.add_edge(0,1, element = 'C')\n",
    "graph.add_edge(0,1, element = 'J')\n",
    "\n",
    "circuit = cq.CircuitQ(graph)"
   ]
  },
  {
   "cell_type": "markdown",
   "metadata": {},
   "source": [
    "#### Symbolic Hamiltonian"
   ]
  },
  {
   "cell_type": "code",
   "execution_count": 3,
   "metadata": {
    "scrolled": true
   },
   "outputs": [
    {
     "data": {
      "text/latex": [
       "$\\displaystyle - E_{J010} \\cos{\\left(\\frac{\\Phi_{1}}{\\Phi_{o}} \\right)} + \\frac{0.5 q_{1}^{2}}{C_{01}}$"
      ],
      "text/plain": [
       "-E_{J010}*cos(\\Phi_{1}/\\Phi_{o}) + 0.5*q_{1}**2/C_{01}"
      ]
     },
     "execution_count": 3,
     "metadata": {},
     "output_type": "execute_result"
    }
   ],
   "source": [
    "circuit.h"
   ]
  },
  {
   "cell_type": "markdown",
   "metadata": {},
   "source": [
    "#### Parameters"
   ]
  },
  {
   "cell_type": "code",
   "execution_count": 4,
   "metadata": {},
   "outputs": [
    {
     "data": {
      "text/plain": [
       "[C_{01}, E_{J010}]"
      ]
     },
     "execution_count": 4,
     "metadata": {},
     "output_type": "execute_result"
    }
   ],
   "source": [
    "circuit.h_parameters"
   ]
  },
  {
   "cell_type": "markdown",
   "metadata": {},
   "source": [
    "#### Numerical Hamiltonian"
   ]
  },
  {
   "cell_type": "code",
   "execution_count": 5,
   "metadata": {},
   "outputs": [],
   "source": [
    "h_num = circuit.get_numerical_hamiltonian(401, grid_length=np.pi*circuit.phi_0)"
   ]
  },
  {
   "cell_type": "markdown",
   "metadata": {},
   "source": [
    "#### Diagonalization"
   ]
  },
  {
   "cell_type": "code",
   "execution_count": 6,
   "metadata": {},
   "outputs": [],
   "source": [
    "eigv, eigs = circuit.get_eigensystem()"
   ]
  },
  {
   "cell_type": "markdown",
   "metadata": {},
   "source": [
    "#### Plot Spectrum"
   ]
  },
  {
   "cell_type": "code",
   "execution_count": 7,
   "metadata": {},
   "outputs": [
    {
     "data": {
      "image/png": "[encoded data removed]",
      "text/plain": [
       "<Figure size 432x288 with 1 Axes>"
      ]
     },
     "metadata": {
      "needs_background": "light"
     },
     "output_type": "display_data"
    }
   ],
   "source": [
    "circuit.transform_charge_to_flux()\n",
    "eigs = circuit.estates_in_phi_basis\n",
    "n_states = 5\n",
    "state_scaling = 15 * (eigv[n_states-1]-eigv[0]/n_states)\n",
    "h = 6.62607015e-34 \n",
    "y_scaling = 1/(h *1e9)\n",
    "\n",
    "def potential(phi):\n",
    "    return -circuit.c_v[\"E\"]*np.cos(phi/circuit.phi_0)\n",
    "plt.plot(circuit.flux_list, potential(circuit.flux_list)*y_scaling, lw=0.7)\n",
    "for n in range(n_states):\n",
    "    plt.plot(circuit.flux_list, \n",
    "             (eigv[n] + np.real(eigs[n]*np.conjugate(eigs[n]))*state_scaling)*y_scaling,\n",
    "             label=\"Eigenstate \" +str(n))\n",
    "plt.legend()\n",
    "plt.xticks(np.linspace(-1*np.pi, 1*np.pi, 3)*circuit.phi_0 ,\n",
    "           [r'$-\\pi$',r'$0$',r'$\\pi$'])\n",
    "plt.xlabel(r\"$\\Phi_1/ \\Phi_o$\")\n",
    "plt.ylabel(r\"Energy in GHz$\\cdot$h\")\n",
    "plt.show()"
   ]
  },
  {
   "cell_type": "markdown",
   "metadata": {},
   "source": [
    "#### $T1$ Times"
   ]
  },
  {
   "cell_type": "code",
   "execution_count": 8,
   "metadata": {},
   "outputs": [
    {
     "name": "stdout",
     "output_type": "stream",
     "text": [
      "Quasiparticles noise contribution T1 = 3.103361e-03 s\n"
     ]
    }
   ],
   "source": [
    "T1_qp = circuit.get_T1_quasiparticles()\n",
    "print(\"Quasiparticles noise contribution T1 = {:e} s\".format(T1_qp))"
   ]
  },
  {
   "cell_type": "code",
   "execution_count": 9,
   "metadata": {},
   "outputs": [
    {
     "name": "stdout",
     "output_type": "stream",
     "text": [
      "Charge noise contribution T1 = 1.836958e-04 s\n"
     ]
    }
   ],
   "source": [
    "T1_c = circuit.get_T1_dielectric_loss()\n",
    "print(\"Charge noise contribution T1 = {:e} s\".format(T1_c))"
   ]
  },
  {
   "cell_type": "code",
   "execution_count": 10,
   "metadata": {},
   "outputs": [
    {
     "name": "stdout",
     "output_type": "stream",
     "text": [
      "Total T1 = 1.734300e-04 s\n"
     ]
    }
   ],
   "source": [
    "print(\"Total T1 = {:e} s\".format( 1/( 1/T1_qp + 1/T1_c)))"
   ]
  }
 ],
 "metadata": {
  "kernelspec": {
   "display_name": "Python 3 (ipykernel)",
   "language": "python",
   "name": "python3"
  },
  "language_info": {
   "codemirror_mode": {
    "name": "ipython",
    "version": 3
   },
   "file_extension": ".py",
   "mimetype": "text/x-python",
   "name": "python",
   "nbconvert_exporter": "python",
   "pygments_lexer": "ipython3",
   "version": "3.9.6"
  }
 },
 "nbformat": 4,
 "nbformat_minor": 2
}
