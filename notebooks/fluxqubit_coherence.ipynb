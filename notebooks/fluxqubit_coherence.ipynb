{
 "cells": [
  {
   "cell_type": "markdown",
   "metadata": {},
   "source": [
    "# Estimate the flux qubit coherence time ($T_2$) given the flux spectrum"
   ]
  },
  {
   "cell_type": "code",
   "execution_count": 1,
   "metadata": {},
   "outputs": [
    {
     "name": "stderr",
     "output_type": "stream",
     "text": [
      "/Users/tim/anaconda3/lib/python3.6/site-packages/h5py/__init__.py:36: FutureWarning: Conversion of the second argument of issubdtype from `float` to `np.floating` is deprecated. In future, it will be treated as `np.float64 == np.dtype(float).type`.\n",
      "  from ._conv import register_converters as _register_converters\n"
     ]
    }
   ],
   "source": [
    "import circuitq as cq\n",
    "\n",
    "import numpy as np\n",
    "import networkx as nx\n",
    "import scqubits as sc\n",
    "import matplotlib.pyplot as plt"
   ]
  },
  {
   "cell_type": "markdown",
   "metadata": {},
   "source": [
    "### Define flux qubit Hamiltonian"
   ]
  },
  {
   "cell_type": "code",
   "execution_count": 2,
   "metadata": {},
   "outputs": [],
   "source": [
    "# Circuit graph\n",
    "graph = nx.MultiGraph()\n",
    "graph.add_edge(0,1, element = 'C')\n",
    "graph.add_edge(0,1, element = 'J')\n",
    "graph.add_edge(1,2, element = 'C')\n",
    "graph.add_edge(1,2, element = 'J')\n",
    "graph.add_edge(0,2, element = 'C')\n",
    "graph.add_edge(0,2, element = 'J');"
   ]
  },
  {
   "cell_type": "code",
   "execution_count": 3,
   "metadata": {},
   "outputs": [
    {
     "data": {
      "text/plain": [
       "[C_{01}, C_{02}, C_{12}, E_{J010}, E_{J020}, E_{J120}, \\tilde{\\Phi}_{120}]"
      ]
     },
     "execution_count": 3,
     "metadata": {},
     "output_type": "execute_result"
    }
   ],
   "source": [
    "# Define circuit object\n",
    "circuit = cq.CircuitQ(graph)\n",
    "circuit.h_parameters"
   ]
  },
  {
   "cell_type": "code",
   "execution_count": 4,
   "metadata": {},
   "outputs": [],
   "source": [
    "# Circuit parameters and numerical Hamiltonian\n",
    "dim = 100\n",
    "grid_length = np.pi\n",
    "EJ = circuit.c_v[\"E\"]\n",
    "alpha = 0.7\n",
    "C = circuit.c_v[\"C\"]\n",
    "h_num = circuit.get_numerical_hamiltonian(dim, parameter_values=[C,C,C,EJ,EJ,alpha*EJ,0], grid_length=grid_length)"
   ]
  },
  {
   "cell_type": "markdown",
   "metadata": {},
   "source": [
    "### Compute flux spectrum"
   ]
  },
  {
   "cell_type": "code",
   "execution_count": 24,
   "metadata": {},
   "outputs": [
    {
     "data": {
      "text/plain": [
       "[<matplotlib.lines.Line2D at 0x1a1571bac8>]"
      ]
     },
     "execution_count": 24,
     "metadata": {},
     "output_type": "execute_result"
    },
    {
     "data": {
      "image/png": "[encoded data removed]",
      "text/plain": [
       "<Figure size 432x288 with 1 Axes>"
      ]
     },
     "metadata": {},
     "output_type": "display_data"
    }
   ],
   "source": [
    "# Test which eigenvalue is the second excited state\n",
    "eigv, eigs = circuit.get_eigensystem(10)\n",
    "plt.plot(eigv, '*')"
   ]
  },
  {
   "cell_type": "code",
   "execution_count": 20,
   "metadata": {
    "collapsed": true
   },
   "outputs": [
    {
     "name": "stdout",
     "output_type": "stream",
     "text": [
      "*\n",
      "*\n",
      "*\n",
      "*\n",
      "*\n",
      "*\n",
      "*\n",
      "*\n",
      "*\n",
      "*\n",
      "*\n",
      "*\n",
      "*\n",
      "*\n",
      "*\n",
      "*\n",
      "*\n",
      "*\n",
      "*\n",
      "*\n",
      "*\n"
     ]
    }
   ],
   "source": [
    "phi_ex_list = np.linspace(0,2,21)\n",
    "eigv_list = []\n",
    "for phi_ex in phi_ex_list/circuit.phi_0:\n",
    "    print('*')\n",
    "    params = [C,C,C,EJ,EJ,alpha*EJ,phi_ex]\n",
    "    h_num = circuit.get_numerical_hamiltonian(dim, parameter_values=params, grid_length=grid_length)\n",
    "    eigv, eigs = circuit.get_eigensystem()\n",
    "    eigv_list.append(eigv[:10])"
   ]
  },
  {
   "cell_type": "code",
   "execution_count": 29,
   "metadata": {},
   "outputs": [
    {
     "data": {
      "image/png": "[encoded data removed]",
      "text/plain": [
       "<Figure size 432x288 with 1 Axes>"
      ]
     },
     "metadata": {},
     "output_type": "display_data"
    }
   ],
   "source": [
    "# Plot absolute values of eigenenergies\n",
    "plt.figure()\n",
    "plt.plot(phi_ex_list, eigv_list[:,4]-eigv_list[:,0])\n",
    "plt.xlabel('Flux')\n",
    "plt.ylabel('Transition energy')\n",
    "plt.show()"
   ]
  },
  {
   "cell_type": "code",
   "execution_count": null,
   "metadata": {},
   "outputs": [],
   "source": [
    "# Plot transition frequency\n",
    "plt.figure()\n",
    "plt.plot(phi_ex_list, eigv_list)\n",
    "plt.xlabel('Flux')\n",
    "plt.ylabel('Absolute energy')\n",
    "plt.show()"
   ]
  },
  {
   "cell_type": "markdown",
   "metadata": {},
   "source": [
    "<p style=\"color:red;\">*To be discussed:* The spectrum above looks like what's expected from a flux qubit. However, Tim is unsure about the units of capacitances, inductances, Josephson energies, and the flux quantum. Can we come up with a conversion from SI units? And `circuit.phi_0` doesn't seem to give the right value of the flux quantum.</p>"
   ]
  },
  {
   "cell_type": "markdown",
   "metadata": {},
   "source": [
    "### Estimate coherence time"
   ]
  },
  {
   "cell_type": "markdown",
   "metadata": {},
   "source": [
    "We the dephasing time is not decay time limited, it can be estimated from the slope of the transition spectrum [1]:\n",
    "\n",
    "\\begin{equation}\n",
    "\\Gamma_\\phi^E = \\sqrt{A_\\Phi \\text{ln}2} \\left| \\partial\\omega_{01}/\\partial\\Phi \\right|,\n",
    "\\end{equation}\n",
    "\n",
    "where $\\omega_{01}$ is the transition frequency, $\\Phi$ the external flux, and $\\sqrt{A_\\Phi}$ the noise amplitude of the noise power spectral density $S_\\Phi\\left(\\omega\\right) = A_\\Phi/\\left|\\omega\\right|$. The noise amplitude is a setup-specific constant and we can ingore it when comparing different qubit candidates: It's sufficient to compare the slopes of the spectra. When we want to compare to other time scales, for example the decay time, however, we need a number for the noise amplitude. Based on Ref. [1], $\\sqrt{A_\\Phi} = 1\\mu\\Phi_0$ is an optimistic but reasonable value.\n",
    "\n",
    "If we want to also estimate $T_1$ times, we can use the formulas from \"Supplementary Note 8\" in [2]. This will require finding the current and voltage operators of the relevant circuit branches.\n",
    "\n",
    "[1] Jochen Braumüller et al., \"Characterizing and optimizing qubit coherence based on SQUID geometry.\" arXiv preprint arXiv:2002.09372 (2020).\n",
    "\n",
    "[2] Fei Yan et al., \"The flux qubit revisited to enhance coherence and reproducibility,\" Nature communications 7, 1 (2016)."
   ]
  },
  {
   "cell_type": "code",
   "execution_count": null,
   "metadata": {},
   "outputs": [],
   "source": []
  },
  {
   "cell_type": "code",
   "execution_count": null,
   "metadata": {},
   "outputs": [],
   "source": []
  },
  {
   "cell_type": "code",
   "execution_count": null,
   "metadata": {},
   "outputs": [],
   "source": []
  },
  {
   "cell_type": "code",
   "execution_count": null,
   "metadata": {},
   "outputs": [],
   "source": []
  },
  {
   "cell_type": "code",
   "execution_count": null,
   "metadata": {},
   "outputs": [],
   "source": []
  },
  {
   "cell_type": "code",
   "execution_count": null,
   "metadata": {},
   "outputs": [],
   "source": []
  },
  {
   "cell_type": "code",
   "execution_count": null,
   "metadata": {},
   "outputs": [],
   "source": []
  },
  {
   "cell_type": "code",
   "execution_count": null,
   "metadata": {},
   "outputs": [],
   "source": []
  },
  {
   "cell_type": "code",
   "execution_count": null,
   "metadata": {},
   "outputs": [],
   "source": []
  }
 ],
 "metadata": {
  "kernelspec": {
   "display_name": "Python 3",
   "language": "python",
   "name": "python3"
  },
  "language_info": {
   "codemirror_mode": {
    "name": "ipython",
    "version": 3
   },
   "file_extension": ".py",
   "mimetype": "text/x-python",
   "name": "python",
   "nbconvert_exporter": "python",
   "pygments_lexer": "ipython3",
   "version": "3.6.5"
  }
 },
 "nbformat": 4,
 "nbformat_minor": 2
}
