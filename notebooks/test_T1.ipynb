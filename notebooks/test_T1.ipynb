{
 "cells": [
  {
   "cell_type": "markdown",
   "metadata": {},
   "source": [
    "# Testing $T_1$ times for various qubits"
   ]
  },
  {
   "cell_type": "code",
   "execution_count": 1,
   "metadata": {
    "pycharm": {
     "is_executing": false
    }
   },
   "outputs": [],
   "source": [
    "import circuitq as cq\n",
    "import numpy as np\n",
    "import networkx as nx\n",
    "import scqubits as sc\n",
    "import matplotlib.pyplot as plt"
   ]
  },
  {
   "cell_type": "markdown",
   "metadata": {},
   "source": [
    "## Test 0: LC-Circuit\n",
    "### Circuit and numerical Implementation"
   ]
  },
  {
   "cell_type": "code",
   "execution_count": 2,
   "metadata": {
    "pycharm": {
     "is_executing": false
    }
   },
   "outputs": [],
   "source": [
    "graph = nx.MultiGraph()\n",
    "graph.add_edge(0,1, element = 'C')\n",
    "graph.add_edge(0,1, element = 'L');\n",
    "circuit = cq.CircuitQ(graph)\n",
    "circuit.get_numerical_hamiltonian(200)\n",
    "circuit.get_eigensystem();"
   ]
  },
  {
   "cell_type": "markdown",
   "metadata": {},
   "source": [
    "### $T_1$ time contributions\n",
    "\n",
    "#### Quasiparticle tunneling"
   ]
  },
  {
   "cell_type": "code",
   "execution_count": 3,
   "metadata": {},
   "outputs": [
    {
     "name": "stdout",
     "output_type": "stream",
     "text": [
      "Quasiparticles: T_1= None\n"
     ]
    }
   ],
   "source": [
    "circuit.get_T1_quasiparticles()\n",
    "print(r'Quasiparticles: T_1=', circuit.T1_quasiparticle)"
   ]
  },
  {
   "cell_type": "markdown",
   "metadata": {},
   "source": [
    "## Test 1: Transmon\n",
    "### Circuit and numerical Implementation"
   ]
  },
  {
   "cell_type": "code",
   "execution_count": 4,
   "metadata": {
    "pycharm": {
     "is_executing": false
    }
   },
   "outputs": [],
   "source": [
    "graph = nx.MultiGraph()\n",
    "graph.add_edge(0,1, element = 'C')\n",
    "graph.add_edge(0,1, element = 'J');\n",
    "circuit = cq.CircuitQ(graph)\n",
    "circuit.get_numerical_hamiltonian(200)\n",
    "circuit.get_eigensystem();"
   ]
  },
  {
   "cell_type": "markdown",
   "metadata": {},
   "source": [
    "### $T_1$ time contributions\n",
    "\n",
    "#### Quasiparticle tunneling\n"
   ]
  },
  {
   "cell_type": "code",
   "execution_count": 5,
   "metadata": {},
   "outputs": [
    {
     "name": "stdout",
     "output_type": "stream",
     "text": [
      "Quasiparticles: T_1= 3.616926779871887e+27\n"
     ]
    }
   ],
   "source": [
    "circuit.get_T1_quasiparticles()\n",
    "print(r'Quasiparticles: T_1=', circuit.T1_quasiparticle)"
   ]
  },
  {
   "cell_type": "markdown",
   "metadata": {},
   "source": [
    "## Test 2: Fluxonium\n",
    "### CircuitQ\n",
    "#### Circuit"
   ]
  },
  {
   "cell_type": "code",
   "execution_count": null,
   "metadata": {
    "pycharm": {
     "is_executing": false
    }
   },
   "outputs": [],
   "source": [
    "graph = nx.MultiGraph()\n",
    "graph.add_edge(0,1, element = 'C')\n",
    "graph.add_edge(0,1, element = 'J')\n",
    "graph.add_edge(0,1, element = 'L');"
   ]
  },
  {
   "cell_type": "markdown",
   "metadata": {},
   "source": [
    "#### Symbolic Hamiltonian"
   ]
  },
  {
   "cell_type": "code",
   "execution_count": null,
   "metadata": {
    "pycharm": {
     "is_executing": false
    }
   },
   "outputs": [],
   "source": [
    "circuit = cq.CircuitQ(graph)\n",
    "circuit.h"
   ]
  },
  {
   "cell_type": "code",
   "execution_count": null,
   "metadata": {},
   "outputs": [],
   "source": [
    "circuit.h_parameters"
   ]
  },
  {
   "cell_type": "markdown",
   "metadata": {},
   "source": [
    "#### Diagonalization"
   ]
  },
  {
   "cell_type": "code",
   "execution_count": null,
   "metadata": {
    "pycharm": {
     "is_executing": false
    }
   },
   "outputs": [],
   "source": [
    "L = 1e-6\n",
    "h_num = circuit.get_numerical_hamiltonian(401, parameter_values=[False, False, L, 0])\n",
    "eigv, eigs = circuit.get_eigensystem()"
   ]
  },
  {
   "cell_type": "markdown",
   "metadata": {},
   "source": [
    "### SCQubit"
   ]
  },
  {
   "cell_type": "code",
   "execution_count": null,
   "metadata": {
    "pycharm": {
     "is_executing": false
    }
   },
   "outputs": [],
   "source": [
    "EJ = circuit.c_v[\"E\"]\n",
    "EC = circuit.c_v[\"E_C\"]\n",
    "EL = (circuit.phi_0**2) / L\n",
    "fluxonium = sc.Fluxonium(EJ = EJ, EC = EC, EL = EL, flux = 0, cutoff = 401)\n",
    "esys = fluxonium.eigensys(evals_count=50)"
   ]
  },
  {
   "cell_type": "markdown",
   "metadata": {},
   "source": [
    "### Compare"
   ]
  },
  {
   "cell_type": "code",
   "execution_count": null,
   "metadata": {
    "pycharm": {
     "is_executing": false
    }
   },
   "outputs": [],
   "source": [
    "plt.figure(figsize=(7,5))\n",
    "plt.plot(np.arange(25), eigv[:25], 'rv', label=\"CircuitQ\")\n",
    "plt.plot(np.arange(25), esys[0][:25], 'g^', label=\"SC Qubit\")\n",
    "plt.legend()\n",
    "plt.xlabel(\"Eigenvalue No.\")\n",
    "plt.ylabel(\"Energy\")\n",
    "for n in range(25):\n",
    "    plt.axhline(esys[0][n], lw=0.5)\n",
    "plt.ticklabel_format(style='scientific', scilimits=(0, 0))\n",
    "plt.show() "
   ]
  },
  {
   "cell_type": "code",
   "execution_count": null,
   "metadata": {
    "pycharm": {
     "is_executing": false
    }
   },
   "outputs": [],
   "source": [
    "plt.style.use('default')\n",
    "plt.figure(figsize=(8,6))\n",
    "def potential(phi):\n",
    "    return -circuit.c_v[\"E\"]*np.cos(phi/circuit.phi_0) + phi**2/(2*L)\n",
    "plt.plot(circuit.flux_list, potential(circuit.flux_list), lw=0.7)\n",
    "for n in range(30):\n",
    "    plt.plot(circuit.flux_list, \n",
    "             eigv[n]+ abs(eigs[:,n])**2*(max(circuit.flux_list)**2/(2*circuit.c_v[\"L\"])) \n",
    "             ,label=\"Eigenstate \" +str(n))\n",
    "plt.legend()\n",
    "plt.ticklabel_format(style='scientific', scilimits=(0, 0))\n",
    "plt.xlabel(r\"$\\Phi$\")\n",
    "plt.ylabel(\"Energy\")\n",
    "plt.show()"
   ]
  },
  {
   "cell_type": "code",
   "execution_count": null,
   "metadata": {
    "pycharm": {
     "is_executing": false
    }
   },
   "outputs": [],
   "source": []
  },
  {
   "cell_type": "markdown",
   "metadata": {},
   "source": [
    "## Test 3: Flux Qubit\n",
    "### CircuitQ\n",
    "#### Circuit"
   ]
  },
  {
   "cell_type": "code",
   "execution_count": null,
   "metadata": {
    "pycharm": {
     "is_executing": false
    }
   },
   "outputs": [],
   "source": [
    "graph = nx.MultiGraph()\n",
    "graph.add_edge(0,1, element = 'C')\n",
    "graph.add_edge(0,1, element = 'J')\n",
    "graph.add_edge(1,2, element = 'C')\n",
    "graph.add_edge(1,2, element = 'J')\n",
    "graph.add_edge(0,2, element = 'C')\n",
    "graph.add_edge(0,2, element = 'J');"
   ]
  },
  {
   "cell_type": "markdown",
   "metadata": {},
   "source": [
    "#### Symbolic Hamiltonian"
   ]
  },
  {
   "cell_type": "code",
   "execution_count": null,
   "metadata": {
    "pycharm": {
     "is_executing": false
    }
   },
   "outputs": [],
   "source": [
    "circuit = cq.CircuitQ(graph)\n",
    "circuit.h_parameters"
   ]
  },
  {
   "cell_type": "code",
   "execution_count": null,
   "metadata": {},
   "outputs": [],
   "source": [
    "circuit.h"
   ]
  },
  {
   "cell_type": "markdown",
   "metadata": {},
   "source": [
    "#### Diagonalization"
   ]
  },
  {
   "cell_type": "code",
   "execution_count": null,
   "metadata": {
    "pycharm": {
     "is_executing": false
    }
   },
   "outputs": [],
   "source": [
    "dim = 50\n",
    "EJ = 2.5*circuit.c_v[\"E\"]\n",
    "alpha = 0.7\n",
    "C = circuit.c_v[\"C\"]\n",
    "phi_ext = np.pi*circuit.phi_0 \n",
    "h_num = circuit.get_numerical_hamiltonian(dim, parameter_values=[C,C,alpha*C,EJ,EJ,alpha*EJ,phi_ext])\n",
    "eigv, eigs = circuit.get_eigensystem(100)"
   ]
  },
  {
   "cell_type": "code",
   "execution_count": null,
   "metadata": {
    "pycharm": {
     "is_executing": false
    }
   },
   "outputs": [],
   "source": [
    "subs_dict = dict()\n",
    "for n, parameter in enumerate(circuit.h_parameters):\n",
    "    subs_dict[parameter] = circuit.parameter_values[n] \n",
    "circuit.h.subs(subs_dict)"
   ]
  },
  {
   "cell_type": "code",
   "execution_count": null,
   "metadata": {},
   "outputs": [],
   "source": [
    "circuit.h_imp"
   ]
  },
  {
   "cell_type": "markdown",
   "metadata": {},
   "source": [
    "### SCQubit"
   ]
  },
  {
   "cell_type": "code",
   "execution_count": null,
   "metadata": {
    "pycharm": {
     "is_executing": false
    }
   },
   "outputs": [],
   "source": [
    "EC = circuit.c_v[\"E_C\"]\n",
    "fluxqubit = sc.FluxQubit(EJ1 = EJ, EJ2 = EJ, EJ3 = alpha*EJ,\n",
    "                         ECJ1 = EC, ECJ2 = EC, ECJ3 = EC/alpha,\n",
    "                         ECg1 = 1e25, ECg2 = 1e25, ng1 = 0, ng2 = 0,\n",
    "                         flux = phi_ext/(circuit.phi_0*2*np.pi), ncut = int(dim/2))\n",
    "esys = fluxqubit.eigensys(evals_count=30)"
   ]
  },
  {
   "cell_type": "markdown",
   "metadata": {},
   "source": [
    "### Compare"
   ]
  },
  {
   "cell_type": "code",
   "execution_count": null,
   "metadata": {
    "pycharm": {
     "is_executing": false
    }
   },
   "outputs": [],
   "source": [
    "plt.figure(figsize=(7,5))\n",
    "plt.plot(np.arange(30), eigv[:30], 'rv', label=\"CircuitQ\")\n",
    "plt.plot(np.arange(30), esys[0][:30], 'g^', label=\"SC Qubit\")\n",
    "plt.legend()\n",
    "plt.xlabel(\"Eigenvalue No.\")\n",
    "plt.ylabel(\"Energy\")\n",
    "for n in range(25):\n",
    "    plt.axhline(esys[0][n], lw=0.5)\n",
    "plt.ticklabel_format(style='scientific', scilimits=(0, 0))\n",
    "plt.show() "
   ]
  },
  {
   "cell_type": "code",
   "execution_count": null,
   "metadata": {},
   "outputs": [],
   "source": [
    "def potential(phi_1, phi_2, phi_ex):\n",
    "    return (-EJ*np.cos(phi_1/circuit.phi_0) - EJ*np.cos(phi_2/circuit.phi_0) -\n",
    "             alpha*EJ*np.cos((phi_2-phi_1+phi_ex)/circuit.phi_0) )\n",
    "phis = np.arange(-4*np.pi*circuit.phi_0, 4*np.pi*circuit.phi_0, 8*np.pi*circuit.phi_0/dim)\n",
    "potential_list = []\n",
    "for phi_1 in phis:\n",
    "    for phi_2 in phis:\n",
    "        potential_list.append(potential(phi_1,phi_2,phi_ext))\n",
    "plt.style.use('default')\n",
    "plt.contourf(phis, phis, np.array(potential_list).reshape(dim,dim))\n",
    "plt.colorbar()\n",
    "plt.show()"
   ]
  },
  {
   "cell_type": "code",
   "execution_count": null,
   "metadata": {
    "pycharm": {
     "is_executing": false
    }
   },
   "outputs": [],
   "source": [
    "phi_grid = sc.Grid1d(-4*np.pi, 4*np.pi, dim)\n",
    "a = fluxqubit.plot_potential(phi_grid=phi_grid);"
   ]
  },
  {
   "cell_type": "code",
   "execution_count": null,
   "metadata": {
    "pycharm": {
     "is_executing": false
    }
   },
   "outputs": [],
   "source": [
    "for n in range(10):\n",
    "    fig, ax = fluxqubit.plot_wavefunction(esys=esys, which=n, phi_grid=phi_grid, mode='abs_sqr',figsize=(4,4));\n",
    "    ax.set_title(\"Eigenstate \" + str(n))\n",
    "    ax.set_xlabel(r\"$\\phi_1$\")\n",
    "    ax.set_ylabel(r\"$\\phi_2$\")\n",
    "plt.show()"
   ]
  },
  {
   "cell_type": "code",
   "execution_count": null,
   "metadata": {},
   "outputs": [],
   "source": [
    "circuit.transform_charge_to_flux()\n",
    "eigs = circuit.estates_in_phi_basis"
   ]
  },
  {
   "cell_type": "code",
   "execution_count": null,
   "metadata": {
    "pycharm": {
     "is_executing": false
    },
    "scrolled": true
   },
   "outputs": [],
   "source": [
    "plt.figure(figsize=(15,50))\n",
    "for n in range(10):\n",
    "    plt.subplot(5,2, n+1)\n",
    "    plt.contourf(circuit.flux_list, circuit.flux_list, \n",
    "                 abs(np.array(eigs[n].reshape(circuit.n_dim,circuit.n_dim)))**2)\n",
    "    plt.colorbar()\n",
    "    plt.title(\"Eigenstate \" + str(n) )\n",
    "    plt.xlabel(r\"$\\phi_1$\")\n",
    "    plt.ylabel(r\"$\\phi_2$\")\n",
    "plt.show()"
   ]
  },
  {
   "cell_type": "code",
   "execution_count": null,
   "metadata": {},
   "outputs": [],
   "source": []
  },
  {
   "cell_type": "code",
   "execution_count": null,
   "metadata": {},
   "outputs": [],
   "source": []
  }
 ],
 "metadata": {
  "kernelspec": {
   "display_name": "Python 3",
   "language": "python",
   "name": "python3"
  },
  "language_info": {
   "codemirror_mode": {
    "name": "ipython",
    "version": 3
   },
   "file_extension": ".py",
   "mimetype": "text/x-python",
   "name": "python",
   "nbconvert_exporter": "python",
   "pygments_lexer": "ipython3",
   "version": "3.6.8"
  }
 },
 "nbformat": 4,
 "nbformat_minor": 2
}
