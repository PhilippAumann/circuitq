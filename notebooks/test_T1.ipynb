{
 "cells": [
  {
   "cell_type": "markdown",
   "metadata": {},
   "source": [
    "# Testing $T_1$ times for various qubits"
   ]
  },
  {
   "cell_type": "code",
   "execution_count": 1,
   "metadata": {
    "pycharm": {
     "is_executing": false
    }
   },
   "outputs": [],
   "source": [
    "import circuitq as cq\n",
    "import numpy as np\n",
    "import networkx as nx\n",
    "import scqubits as sc\n",
    "import matplotlib.pyplot as plt"
   ]
  },
  {
   "cell_type": "markdown",
   "metadata": {},
   "source": [
    "## Test 0: LC-Circuit\n",
    "### Circuit and numerical Implementation"
   ]
  },
  {
   "cell_type": "code",
   "execution_count": 2,
   "metadata": {
    "pycharm": {
     "is_executing": false
    }
   },
   "outputs": [],
   "source": [
    "graph = nx.MultiGraph()\n",
    "graph.add_edge(0,1, element = 'C')\n",
    "graph.add_edge(0,1, element = 'L');\n",
    "circuit = cq.CircuitQ(graph)\n",
    "circuit.get_numerical_hamiltonian(200)\n",
    "circuit.get_eigensystem();"
   ]
  },
  {
   "cell_type": "markdown",
   "metadata": {},
   "source": [
    "### $T_1$ time contributions\n",
    "\n",
    "#### Quasiparticle tunneling"
   ]
  },
  {
   "cell_type": "code",
   "execution_count": 3,
   "metadata": {},
   "outputs": [
    {
     "name": "stdout",
     "output_type": "stream",
     "text": [
      "Quasiparticles: T_1 = None\n"
     ]
    }
   ],
   "source": [
    "circuit.get_T1_quasiparticles()\n",
    "print('Quasiparticles: T_1 = {}'.format(circuit.T1_quasiparticle))"
   ]
  },
  {
   "cell_type": "markdown",
   "metadata": {},
   "source": [
    "#### Charge nosie"
   ]
  },
  {
   "cell_type": "code",
   "execution_count": 4,
   "metadata": {},
   "outputs": [
    {
     "name": "stdout",
     "output_type": "stream",
     "text": [
      "Charge: T_1 = 1.313022e-04 s\n"
     ]
    }
   ],
   "source": [
    "circuit.get_T1_charge()\n",
    "print('Charge: T_1 = {:e} s'.format(circuit.T1_charge))"
   ]
  },
  {
   "cell_type": "markdown",
   "metadata": {},
   "source": [
    "#### Flux nosie"
   ]
  },
  {
   "cell_type": "code",
   "execution_count": 5,
   "metadata": {},
   "outputs": [
    {
     "name": "stdout",
     "output_type": "stream",
     "text": [
      "Flux: T_1 = None\n"
     ]
    }
   ],
   "source": [
    "circuit.get_T1_flux()\n",
    "print('Flux: T_1 = {}'.format(circuit.T1_flux))"
   ]
  },
  {
   "cell_type": "markdown",
   "metadata": {},
   "source": [
    "## Test 1: Transmon\n",
    "### Circuit and numerical Implementation"
   ]
  },
  {
   "cell_type": "code",
   "execution_count": 6,
   "metadata": {
    "pycharm": {
     "is_executing": false
    }
   },
   "outputs": [],
   "source": [
    "graph = nx.MultiGraph()\n",
    "graph.add_edge(0,1, element = 'C')\n",
    "graph.add_edge(0,1, element = 'J');\n",
    "circuit = cq.CircuitQ(graph)\n",
    "circuit.get_numerical_hamiltonian(200)\n",
    "circuit.get_eigensystem();"
   ]
  },
  {
   "cell_type": "markdown",
   "metadata": {},
   "source": [
    "### $T_1$ time contributions\n",
    "\n",
    "#### Quasiparticle tunneling\n"
   ]
  },
  {
   "cell_type": "code",
   "execution_count": 7,
   "metadata": {},
   "outputs": [
    {
     "name": "stdout",
     "output_type": "stream",
     "text": [
      "Quasiparticles: T_1 = 2.636543e-04 s\n"
     ]
    }
   ],
   "source": [
    "circuit.get_T1_quasiparticles()\n",
    "print('Quasiparticles: T_1 = {:e} s'.format(circuit.T1_quasiparticle))"
   ]
  },
  {
   "cell_type": "markdown",
   "metadata": {},
   "source": [
    "#### Charge nosie"
   ]
  },
  {
   "cell_type": "code",
   "execution_count": 8,
   "metadata": {},
   "outputs": [
    {
     "name": "stdout",
     "output_type": "stream",
     "text": [
      "Charge: T_1 = 1.308310e-04 s\n"
     ]
    }
   ],
   "source": [
    "circuit.get_T1_charge()\n",
    "print('Charge: T_1 = {:e} s'.format(circuit.T1_charge))"
   ]
  },
  {
   "cell_type": "markdown",
   "metadata": {},
   "source": [
    "#### Flux nosie"
   ]
  },
  {
   "cell_type": "code",
   "execution_count": 9,
   "metadata": {},
   "outputs": [
    {
     "name": "stdout",
     "output_type": "stream",
     "text": [
      "Flux: T_1 = None\n"
     ]
    }
   ],
   "source": [
    "circuit.get_T1_flux()\n",
    "print('Flux: T_1 = {}'.format(circuit.T1_flux))"
   ]
  },
  {
   "cell_type": "markdown",
   "metadata": {},
   "source": [
    "## Test 2: Fluxonium\n",
    "### Circuit and numerical Implementation"
   ]
  },
  {
   "cell_type": "code",
   "execution_count": 10,
   "metadata": {
    "pycharm": {
     "is_executing": false
    }
   },
   "outputs": [],
   "source": [
    "graph = nx.MultiGraph()\n",
    "graph.add_edge(0,1, element = 'C')\n",
    "graph.add_edge(0,1, element = 'J')\n",
    "graph.add_edge(0,1, element = 'L');\n",
    "circuit = cq.CircuitQ(graph)\n",
    "circuit.get_numerical_hamiltonian(400, parameter_values=[False, False, False, False])\n",
    "circuit.get_eigensystem();"
   ]
  },
  {
   "cell_type": "code",
   "execution_count": 11,
   "metadata": {},
   "outputs": [
    {
     "data": {
      "text/plain": [
       "[C_{01}, E_{J010}, L_{010}, \\tilde{\\Phi}_{010}]"
      ]
     },
     "execution_count": 11,
     "metadata": {},
     "output_type": "execute_result"
    }
   ],
   "source": [
    "circuit.h_parameters"
   ]
  },
  {
   "cell_type": "markdown",
   "metadata": {},
   "source": [
    "### $T_1$ time contributions\n",
    "\n",
    "#### Quasiparticle tunneling"
   ]
  },
  {
   "cell_type": "code",
   "execution_count": 12,
   "metadata": {},
   "outputs": [
    {
     "name": "stdout",
     "output_type": "stream",
     "text": [
      "Quasiparticles: T_1 = 3.007594e-04 s\n"
     ]
    }
   ],
   "source": [
    "circuit.get_T1_quasiparticles()\n",
    "print('Quasiparticles: T_1 = {:e} s'.format(circuit.T1_quasiparticle))"
   ]
  },
  {
   "cell_type": "markdown",
   "metadata": {},
   "source": [
    "#### Charge nosie"
   ]
  },
  {
   "cell_type": "code",
   "execution_count": 13,
   "metadata": {},
   "outputs": [
    {
     "name": "stdout",
     "output_type": "stream",
     "text": [
      "Charge: T_1 = 1.311329e-04 s\n"
     ]
    }
   ],
   "source": [
    "circuit.get_T1_charge()\n",
    "print('Charge: T_1 = {:e} s'.format(circuit.T1_charge))"
   ]
  },
  {
   "cell_type": "markdown",
   "metadata": {},
   "source": [
    "#### Flux nosie"
   ]
  },
  {
   "cell_type": "code",
   "execution_count": 14,
   "metadata": {},
   "outputs": [
    {
     "name": "stdout",
     "output_type": "stream",
     "text": [
      "Flux: T_1 = 2.370313e+00 s\n"
     ]
    }
   ],
   "source": [
    "circuit.get_T1_flux()\n",
    "print('Flux: T_1 = {:e} s'.format(circuit.T1_flux))"
   ]
  },
  {
   "cell_type": "markdown",
   "metadata": {},
   "source": [
    "## Test 3: Flux Qubit\n",
    "### CircuitQ\n",
    "#### Circuit"
   ]
  },
  {
   "cell_type": "code",
   "execution_count": 15,
   "metadata": {
    "pycharm": {
     "is_executing": false
    }
   },
   "outputs": [],
   "source": [
    "graph = nx.MultiGraph()\n",
    "graph.add_edge(0,1, element = 'C')\n",
    "graph.add_edge(0,1, element = 'J')\n",
    "graph.add_edge(1,2, element = 'C')\n",
    "graph.add_edge(1,2, element = 'J')\n",
    "graph.add_edge(0,2, element = 'C')\n",
    "graph.add_edge(0,2, element = 'J');\n",
    "circuit = cq.CircuitQ(graph)\n",
    "EJ = 2.5*circuit.c_v[\"E\"]\n",
    "alpha = 0.7\n",
    "C = circuit.c_v[\"C\"]\n",
    "phi_ext = np.pi*circuit.phi_0 \n",
    "circuit.get_numerical_hamiltonian(50, parameter_values=[C,C,alpha*C,EJ,EJ,alpha*EJ,phi_ext])\n",
    "circuit.get_eigensystem();"
   ]
  },
  {
   "cell_type": "code",
   "execution_count": 16,
   "metadata": {},
   "outputs": [
    {
     "data": {
      "text/plain": [
       "[C_{01}, C_{02}, C_{12}, E_{J010}, E_{J020}, E_{J120}, \\tilde{\\Phi}_{120}]"
      ]
     },
     "execution_count": 16,
     "metadata": {},
     "output_type": "execute_result"
    }
   ],
   "source": [
    "circuit.h_parameters"
   ]
  },
  {
   "cell_type": "markdown",
   "metadata": {},
   "source": [
    "### $T_1$ time contributions\n",
    "\n",
    "#### Quasiparticle tunneling"
   ]
  },
  {
   "cell_type": "code",
   "execution_count": 17,
   "metadata": {},
   "outputs": [
    {
     "name": "stderr",
     "output_type": "stream",
     "text": [
      "/Users/philipp/Dropbox (Personal)/CircuitDesign/git/circuitq/core.py:929: UserWarning: The ground state seems to be degenerated. This has an unfortunate effect on the T1 times.\n",
      "  warnings.warn(\"The ground state seems to be degenerated. \"\n"
     ]
    },
    {
     "name": "stdout",
     "output_type": "stream",
     "text": [
      "Quasiparticles: T_1 = 9.965771e-04 s\n"
     ]
    }
   ],
   "source": [
    "circuit.get_T1_quasiparticles()\n",
    "print('Quasiparticles: T_1 = {:e} s'.format(circuit.T1_quasiparticle))"
   ]
  },
  {
   "cell_type": "markdown",
   "metadata": {},
   "source": [
    "#### Charge nosie"
   ]
  },
  {
   "cell_type": "code",
   "execution_count": 18,
   "metadata": {},
   "outputs": [
    {
     "name": "stdout",
     "output_type": "stream",
     "text": [
      "Charge: T_1 = 1.158470e+21 s\n"
     ]
    }
   ],
   "source": [
    "circuit.get_T1_charge()\n",
    "print('Charge: T_1 = {:e} s'.format(circuit.T1_charge))"
   ]
  },
  {
   "cell_type": "markdown",
   "metadata": {},
   "source": [
    "#### Flux nosie"
   ]
  },
  {
   "cell_type": "code",
   "execution_count": 19,
   "metadata": {},
   "outputs": [
    {
     "name": "stdout",
     "output_type": "stream",
     "text": [
      "Flux: T_1 = 2.412288e+23 s\n"
     ]
    }
   ],
   "source": [
    "circuit.get_T1_flux()\n",
    "print('Flux: T_1 = {:e} s'.format(circuit.T1_flux))"
   ]
  }
 ],
 "metadata": {
  "kernelspec": {
   "display_name": "Python 3",
   "language": "python",
   "name": "python3"
  },
  "language_info": {
   "codemirror_mode": {
    "name": "ipython",
    "version": 3
   },
   "file_extension": ".py",
   "mimetype": "text/x-python",
   "name": "python",
   "nbconvert_exporter": "python",
   "pygments_lexer": "ipython3",
   "version": "3.6.8"
  }
 },
 "nbformat": 4,
 "nbformat_minor": 2
}
