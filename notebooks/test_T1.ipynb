{
 "cells": [
  {
   "cell_type": "markdown",
   "metadata": {},
   "source": [
    "# Testing $T_1$ times for various qubits"
   ]
  },
  {
   "cell_type": "code",
   "execution_count": 1,
   "metadata": {
    "pycharm": {
     "is_executing": false
    }
   },
   "outputs": [],
   "source": [
    "import circuitq as cq\n",
    "import numpy as np\n",
    "import networkx as nx\n",
    "import scqubits as sc\n",
    "import matplotlib.pyplot as plt"
   ]
  },
  {
   "cell_type": "markdown",
   "metadata": {},
   "source": [
    "## Test 0: LC-Circuit\n",
    "### Circuit and numerical Implementation"
   ]
  },
  {
   "cell_type": "code",
   "execution_count": 2,
   "metadata": {
    "pycharm": {
     "is_executing": false
    }
   },
   "outputs": [],
   "source": [
    "graph = nx.MultiGraph()\n",
    "graph.add_edge(0,1, element = 'C')\n",
    "graph.add_edge(0,1, element = 'L');\n",
    "circuit = cq.CircuitQ(graph)\n",
    "circuit.get_numerical_hamiltonian(200)\n",
    "circuit.get_eigensystem();"
   ]
  },
  {
   "cell_type": "markdown",
   "metadata": {},
   "source": [
    "### $T_1$ time contributions\n",
    "\n",
    "#### Quasiparticle tunneling"
   ]
  },
  {
   "cell_type": "code",
   "execution_count": 3,
   "metadata": {},
   "outputs": [
    {
     "name": "stdout",
     "output_type": "stream",
     "text": [
      "Quasiparticles: T_1= None\n"
     ]
    }
   ],
   "source": [
    "circuit.get_T1_quasiparticles()\n",
    "print('Quasiparticles: T_1=', circuit.T1_quasiparticle)"
   ]
  },
  {
   "cell_type": "markdown",
   "metadata": {},
   "source": [
    "## Test 1: Transmon\n",
    "### Circuit and numerical Implementation"
   ]
  },
  {
   "cell_type": "code",
   "execution_count": 4,
   "metadata": {
    "pycharm": {
     "is_executing": false
    }
   },
   "outputs": [],
   "source": [
    "graph = nx.MultiGraph()\n",
    "graph.add_edge(0,1, element = 'C')\n",
    "graph.add_edge(0,1, element = 'J');\n",
    "circuit = cq.CircuitQ(graph)\n",
    "circuit.get_numerical_hamiltonian(200)\n",
    "circuit.get_eigensystem();"
   ]
  },
  {
   "cell_type": "markdown",
   "metadata": {},
   "source": [
    "### $T_1$ time contributions\n",
    "\n",
    "#### Quasiparticle tunneling\n"
   ]
  },
  {
   "cell_type": "code",
   "execution_count": 5,
   "metadata": {},
   "outputs": [
    {
     "name": "stdout",
     "output_type": "stream",
     "text": [
      "Quasiparticles: T_1= 2.636543e-04 s\n"
     ]
    }
   ],
   "source": [
    "circuit.get_T1_quasiparticles()\n",
    "print('Quasiparticles: T_1= {:e}'.format(circuit.T1_quasiparticle), 's')"
   ]
  },
  {
   "cell_type": "markdown",
   "metadata": {},
   "source": [
    "## Test 2: Fluxonium\n",
    "### Circuit and numerical Implementation"
   ]
  },
  {
   "cell_type": "code",
   "execution_count": 6,
   "metadata": {
    "pycharm": {
     "is_executing": false
    }
   },
   "outputs": [],
   "source": [
    "graph = nx.MultiGraph()\n",
    "graph.add_edge(0,1, element = 'C')\n",
    "graph.add_edge(0,1, element = 'J')\n",
    "graph.add_edge(0,1, element = 'L');\n",
    "circuit = cq.CircuitQ(graph)\n",
    "circuit.get_numerical_hamiltonian(200)\n",
    "circuit.get_eigensystem();"
   ]
  },
  {
   "cell_type": "markdown",
   "metadata": {},
   "source": [
    "### $T_1$ time contributions\n",
    "\n",
    "#### Quasiparticle tunneling"
   ]
  },
  {
   "cell_type": "code",
   "execution_count": 7,
   "metadata": {},
   "outputs": [
    {
     "name": "stdout",
     "output_type": "stream",
     "text": [
      "Quasiparticles: T_1= 3.019081e-04 s\n"
     ]
    }
   ],
   "source": [
    "circuit.get_T1_quasiparticles()\n",
    "print('Quasiparticles: T_1= {:e}'.format(circuit.T1_quasiparticle), 's')"
   ]
  },
  {
   "cell_type": "markdown",
   "metadata": {},
   "source": [
    "## Test 3: Flux Qubit\n",
    "### CircuitQ\n",
    "#### Circuit"
   ]
  },
  {
   "cell_type": "code",
   "execution_count": 8,
   "metadata": {
    "pycharm": {
     "is_executing": false
    }
   },
   "outputs": [],
   "source": [
    "graph = nx.MultiGraph()\n",
    "graph.add_edge(0,1, element = 'C')\n",
    "graph.add_edge(0,1, element = 'J')\n",
    "graph.add_edge(1,2, element = 'C')\n",
    "graph.add_edge(1,2, element = 'J')\n",
    "graph.add_edge(0,2, element = 'C')\n",
    "graph.add_edge(0,2, element = 'J');\n",
    "circuit = cq.CircuitQ(graph, offset_nodes=[1])\n",
    "circuit.get_numerical_hamiltonian(50)\n",
    "circuit.get_eigensystem();"
   ]
  },
  {
   "cell_type": "markdown",
   "metadata": {},
   "source": [
    "### $T_1$ time contributions\n",
    "\n",
    "#### Quasiparticle tunneling"
   ]
  },
  {
   "cell_type": "code",
   "execution_count": 9,
   "metadata": {},
   "outputs": [
    {
     "name": "stdout",
     "output_type": "stream",
     "text": [
      "Quasiparticles: T_1= 1.896747e-04 s\n"
     ]
    }
   ],
   "source": [
    "circuit.get_T1_quasiparticles()\n",
    "print('Quasiparticles: T_1= {:e}'.format(circuit.T1_quasiparticle), 's')"
   ]
  },
  {
   "cell_type": "code",
   "execution_count": null,
   "metadata": {},
   "outputs": [],
   "source": []
  },
  {
   "cell_type": "code",
   "execution_count": null,
   "metadata": {},
   "outputs": [],
   "source": []
  }
 ],
 "metadata": {
  "kernelspec": {
   "display_name": "Python 3",
   "language": "python",
   "name": "python3"
  },
  "language_info": {
   "codemirror_mode": {
    "name": "ipython",
    "version": 3
   },
   "file_extension": ".py",
   "mimetype": "text/x-python",
   "name": "python",
   "nbconvert_exporter": "python",
   "pygments_lexer": "ipython3",
   "version": "3.6.8"
  }
 },
 "nbformat": 4,
 "nbformat_minor": 2
}
