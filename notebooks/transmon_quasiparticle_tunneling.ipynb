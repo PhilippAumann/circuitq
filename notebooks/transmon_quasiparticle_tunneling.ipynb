{
 "cells": [
  {
   "cell_type": "markdown",
   "metadata": {},
   "source": [
    "# Computation of transmon quasiparticle decay"
   ]
  },
  {
   "cell_type": "markdown",
   "metadata": {},
   "source": [
    "We simulate T1 decay from quasiparticle tunneling in the charge basis."
   ]
  },
  {
   "cell_type": "markdown",
   "metadata": {},
   "source": [
    "### Initialization"
   ]
  },
  {
   "cell_type": "code",
   "execution_count": 1,
   "metadata": {},
   "outputs": [],
   "source": [
    "import numpy as np\n",
    "import scipy as sp\n",
    "from qutip import *\n",
    "import matplotlib as mpl\n",
    "from matplotlib import pyplot as plt\n",
    "import seaborn as sns \n",
    "import time\n",
    "import pickle\n",
    "sns.reset_defaults()\n",
    "%matplotlib inline\n",
    "sns.set_context('paper', font_scale = 2)\n",
    "mpl.rcParams['axes.linewidth'] = 0.5\n",
    "mpl.rcParams['text.usetex'] = True\n",
    "mpl.rcParams['text.latex.preamble'] = [r'\\usepackage{amsmath}']\n",
    "mpl.rcParams['mathtext.fontset'] = 'stix'\n",
    "params = {'legend.fontsize': 8,\n",
    "          'legend.handlelength': 1,\n",
    "          'legend.handletextpad': 0.5}\n",
    "mpl.rcParams.update(params)"
   ]
  },
  {
   "cell_type": "markdown",
   "metadata": {},
   "source": [
    "### Transmon Hamiltonian in charge basis"
   ]
  },
  {
   "cell_type": "code",
   "execution_count": 2,
   "metadata": {},
   "outputs": [],
   "source": [
    "### Operators ###\n",
    "\n",
    "# Identity\n",
    "def I(n):\n",
    "    return qeye(2*n+1)\n",
    "\n",
    "# Charge operator\n",
    "def Q(n):\n",
    "    return Qobj( np.diag(np.arange(-n,n+1)) )\n",
    "\n",
    "# Displacement operator D^+\n",
    "def Dp(n, k=1):\n",
    "    if 2*n-k > 0:\n",
    "        d = np.ones(2*n+1-k)\n",
    "        return Qobj( np.diag(d, k=-k) )\n",
    "    else:\n",
    "        return Qobj( np.zeros((2*n, 2*n)) )\n",
    "\n",
    "# Displacement operator D^-\n",
    "def Dm(n, k=1):\n",
    "    return Dp(n, k).trans()"
   ]
  },
  {
   "cell_type": "code",
   "execution_count": 3,
   "metadata": {},
   "outputs": [],
   "source": [
    "def eigs_transmon(Ej, Cap, f=0.5, q=0.0, return_hamiltonian=False):\n",
    "    \"\"\"\n",
    "    Ej : float | Energy of large junction in GHz\n",
    "    Cap: float | Capacitance in fF\n",
    "    f  : float | External flux in range [0,1]\n",
    "    q  : float | External charge offset in e\n",
    "    \"\"\"\n",
    "\n",
    "    # Initialization\n",
    "    n1 = 100 #charge state truncation number\n",
    "\n",
    "    # Fundamental constants\n",
    "    e    = 1.60217662 * 10**(-19) #elementary charge\n",
    "    h    = 6.62607004 * 10**(-34) #Planck constant\n",
    "    Phi0 = 2.06783385 * 10**(-15) #flux quantum\n",
    "    \n",
    "    # Capacitative energy (in GHz)\n",
    "    Cap  = Cap * 1e-15\n",
    "\n",
    "    # Define operators\n",
    "    I1 = I(n1)\n",
    "    N1 = Q(n1)\n",
    "    Dp1 = Dp(n1)\n",
    "    Dm1 = Dm(n1)\n",
    "\n",
    "    # Capacitive (kinetic) part of Hamiltonian\n",
    "    T = 0\n",
    "    Cinv = 1/Cap\n",
    "    T += Cinv * tensor((N1+q*I1)**2)\n",
    "    T *= 2*e**2/h/1e9\n",
    "\n",
    "    # Inductive (potential) part of Hamiltonian\n",
    "    U = 0\n",
    "    D = Dp1+Dm1\n",
    "    U += -Ej * np.abs(np.cos(2*np.pi*f)) * tensor(D) #deleted erroneous factor 2**(1-(i==j))\n",
    "\n",
    "    # Assemble Hamiltonian\n",
    "    H = T + U\n",
    "    \n",
    "    # Return Hamiltonian matrix if desired by user\n",
    "    if return_hamiltonian:\n",
    "        return H\n",
    "    \n",
    "    # Compute eigenstates and eigenvalues\n",
    "    evals, estates = H.tidyup().eigenstates(eigvals=10, sparse=True)\n",
    "    #values, vectors = sp.sparse.linalg.eigsh(H.data, k=6, v0=None, which='SA', maxiter=1e7)\n",
    "    #order = np.argsort(values)\n",
    "    #evals = values[order]\n",
    "    #estates = vectors[order]\n",
    "    \n",
    "    return evals, estates"
   ]
  },
  {
   "cell_type": "code",
   "execution_count": 4,
   "metadata": {},
   "outputs": [],
   "source": [
    "def spec_transmon(Ej, Cap, f_sweep=np.linspace(0,1,11), q=0.0, normalized=True):\n",
    "    \"\"\"\n",
    "    Ej : float | Energy of large junction in GHz\n",
    "    Cap: float | Capacitance in fF\n",
    "    f  : float | External flux in range [0,1]\n",
    "    q  : float | External charge offset in e\n",
    "    \"\"\"\n",
    "\n",
    "    # Initialization\n",
    "    spec = []\n",
    "\n",
    "    # Calculate spectrum for swept parameter\n",
    "    for f in f_sweep:\n",
    "        spec.append( eigs_transmon(Ej, Cap, f, q)[0] )\n",
    "        print(np.round(f,2), end=' ')\n",
    "    spec = np.array(spec)\n",
    "\n",
    "    # Normalize spectrum by ground state if desired\n",
    "    if normalized:\n",
    "        e0 = np.array([spec[i][0] for i in range(len(spec))])\n",
    "        spec = (spec.T - e0).T\n",
    "\n",
    "    print('Sweep done!')\n",
    "        \n",
    "    return spec"
   ]
  },
  {
   "cell_type": "code",
   "execution_count": 5,
   "metadata": {},
   "outputs": [
    {
     "name": "stdout",
     "output_type": "stream",
     "text": [
      "0.0 0.01 0.02 0.03 0.04 0.05 0.06 0.07 0.08 0.09 0.1 0.11 0.12 0.13 0.14 0.15 0.16 0.17 0.18 0.19 0.2 0.21 0.22 0.23 0.24 0.25 0.26 0.27 0.28 0.29 0.3 0.31 0.32 0.33 0.34 0.35 0.36 0.37 0.38 0.39 0.4 0.41 0.42 0.43 0.44 0.45 0.46 0.47 0.48 0.49 0.5 0.51 0.52 0.53 0.54 0.55 0.56 0.57 0.58 0.59 0.6 0.61 0.62 0.63 0.64 0.65 0.66 0.67 0.68 0.69 0.7 0.71 0.72 0.73 0.74 0.75 0.76 0.77 0.78 0.79 0.8 0.81 0.82 0.83 0.84 0.85 0.86 0.87 0.88 0.89 0.9 0.91 0.92 0.93 0.94 0.95 0.96 0.97 0.98 0.99 1.0 Sweep done!\n"
     ]
    }
   ],
   "source": [
    "# Flux sweep simulation, sweeping first qubit - with coupling\n",
    "Ej = 22\n",
    "n=2\n",
    "Csum = 91\n",
    "f_sweep = np.linspace(0,1,101)\n",
    "spec = spec_transmon(Ej, Csum, f_sweep)"
   ]
  },
  {
   "cell_type": "code",
   "execution_count": 6,
   "metadata": {},
   "outputs": [
    {
     "data": {
      "image/png": "[encoded data removed]",
      "text/plain": [
       "<Figure size 576x360 with 1 Axes>"
      ]
     },
     "metadata": {
      "needs_background": "light"
     },
     "output_type": "display_data"
    }
   ],
   "source": [
    "plt.figure(figsize=(8,5))\n",
    "plt.plot(f_sweep, spec[:,1:3])\n",
    "plt.title(\"Transmon excitation spectrum\")\n",
    "plt.xlabel(r'Qubit 1 flux in $\\Phi_0$')\n",
    "plt.ylabel('Transition Frequency in GHz')\n",
    "plt.grid(True)\n",
    "plt.show()"
   ]
  },
  {
   "cell_type": "markdown",
   "metadata": {},
   "source": [
    "### Compute quasiparticle decay in charge basis\n",
    "\n",
    "We use the procedure from the Supplementary Information of [Yan2016](https://www.nature.com/articles/ncomms12964). The T1 decay is computed at the sweetspot $\\Phi_\\text{ext} = 0\\,\\Phi_0$."
   ]
  },
  {
   "cell_type": "code",
   "execution_count": 7,
   "metadata": {},
   "outputs": [
    {
     "name": "stdout",
     "output_type": "stream",
     "text": [
      "Qubit frequency: 8.437549583426932 GHz\n"
     ]
    }
   ],
   "source": [
    "# States without quasiparticle on the node\n",
    "E0 = eigs_transmon(Ej, Csum, f=0.0, q=0.0)[0][0]\n",
    "E1 = eigs_transmon(Ej, Csum, f=0.0, q=0.0)[0][1]\n",
    "f01 = E1 - E0\n",
    "print('Qubit frequency: {} GHz'.format(f01))\n",
    "g_even = eigs_transmon(Ej, Csum, f=0.0, q=0.0)[1][0].full()\n",
    "e_even = eigs_transmon(Ej, Csum, f=0.0, q=0.0)[1][1].full()"
   ]
  },
  {
   "cell_type": "code",
   "execution_count": 8,
   "metadata": {},
   "outputs": [],
   "source": [
    "# States WITH quasiparticle on the node\n",
    "g_odd = eigs_transmon(Ej, Csum, f=0.0, q=0.5)[1][0].full()\n",
    "e_odd = eigs_transmon(Ej, Csum, f=0.0, q=0.5)[1][1].full()"
   ]
  },
  {
   "cell_type": "code",
   "execution_count": 9,
   "metadata": {},
   "outputs": [
    {
     "data": {
      "image/png": "[encoded data removed]",
      "text/plain": [
       "<Figure size 432x288 with 1 Axes>"
      ]
     },
     "metadata": {
      "needs_background": "light"
     },
     "output_type": "display_data"
    }
   ],
   "source": [
    "# Plot eigenstates with and without quasiparticle\n",
    "plt.figure()\n",
    "plt.plot(np.abs(g_even))\n",
    "plt.plot(np.abs(g_odd))\n",
    "plt.plot(np.abs(e_even))\n",
    "plt.plot(np.abs(e_odd))\n",
    "plt.show()"
   ]
  },
  {
   "cell_type": "code",
   "execution_count": 10,
   "metadata": {},
   "outputs": [
    {
     "name": "stdout",
     "output_type": "stream",
     "text": [
      "Matrix element: 0.0245886049321641\n"
     ]
    }
   ],
   "source": [
    "# Quasiparticle tunneling matrix element\n",
    "m_qp = np.abs(np.dot(g_even.T,e_odd)[0][0])**2\n",
    "print('Matrix element:', m_qp)"
   ]
  },
  {
   "cell_type": "code",
   "execution_count": 11,
   "metadata": {},
   "outputs": [
    {
     "name": "stdout",
     "output_type": "stream",
     "text": [
      "0.9618831729874471\n",
      "1.83111450612732e-14\n"
     ]
    }
   ],
   "source": [
    "# Braket of odd and even excited state:\n",
    "print(np.abs(np.dot(e_even.T,e_odd)[0][0]))\n",
    "# Braket of even ground state and excited state\n",
    "print(np.abs(np.dot(g_even.T,e_even)[0][0]))"
   ]
  },
  {
   "cell_type": "code",
   "execution_count": 12,
   "metadata": {},
   "outputs": [
    {
     "name": "stdout",
     "output_type": "stream",
     "text": [
      "S_qp: 1.9160396800630547e-05 GHz\n",
      "T1: 8.490271991046534 ms\n"
     ]
    }
   ],
   "source": [
    "# Compute quasiparticle T1 time (SI Eq. (31) of [Yan2016])\n",
    "x_qp     = 1e-7 #from https://www.nature.com/articles/ncomms6836: x_xp is between 1e-6 and 1e-7\n",
    "delta_al = 80 #in GHz\n",
    "S_qp     = x_qp*Ej*np.sqrt(8*delta_al/f01)\n",
    "print('S_qp:', S_qp, 'GHz')\n",
    "\n",
    "T1_qp = 1/(0.25*m_qp*S_qp)/1e9 #in seconds\n",
    "print('T1:', T1_qp*1e3, 'ms')"
   ]
  },
  {
   "cell_type": "markdown",
   "metadata": {},
   "source": [
    "<strike>The estimated T1 decay is just about $3\\,\\text{ns}$ and thus much shorter than expected. We think that the problem lies with the noise spectral density S_qp: There is probably an error in the formula. We will check [Catelani2011](https://journals.aps.org/prl/abstract/10.1103/PhysRevLett.106.077002) to find the right expression.</strike>\n",
    "\n",
    "SOLVED IT! x_qp is greatly underestimated by the formula we used previously (see cell below). The [Wang2014](https://www.nature.com/articles/ncomms6836) paper gives good values such that we are now in the T1_qp ~ ms regime for the transmon, as expected."
   ]
  },
  {
   "cell_type": "code",
   "execution_count": 13,
   "metadata": {},
   "outputs": [],
   "source": [
    "# # Using the Catelani paper, eqs. 6, 9, 11\n",
    "# kB = 1.38064852e-23\n",
    "# h  = 6.62607004 * 10**(-34)\n",
    "# e  = 1.60217662 * 10**(-19)\n",
    "# #calculate x_qp\n",
    "# # x_qp = np.sqrt(2*np.pi * kB*10e-3/(h*90e9)) * np.exp(-h*90e9/(kB*10e-3)) #<< grossly underestimates x_qp\n",
    "# x_qp = 1e-7 #from https://www.nature.com/articles/ncomms6836\n",
    "# print(x_qp)\n",
    "# #... to figure out Re(Y_qp) and then the noise spectral density, one needs to calculate the junction conductance"
   ]
  },
  {
   "cell_type": "code",
   "execution_count": null,
   "metadata": {},
   "outputs": [],
   "source": []
  }
 ],
 "metadata": {
  "kernelspec": {
   "display_name": "Python 3",
   "language": "python",
   "name": "python3"
  },
  "language_info": {
   "codemirror_mode": {
    "name": "ipython",
    "version": 3
   },
   "file_extension": ".py",
   "mimetype": "text/x-python",
   "name": "python",
   "nbconvert_exporter": "python",
   "pygments_lexer": "ipython3",
   "version": "3.6.12"
  }
 },
 "nbformat": 4,
 "nbformat_minor": 2
}
