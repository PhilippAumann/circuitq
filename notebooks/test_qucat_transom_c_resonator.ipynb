{
 "cells": [
  {
   "cell_type": "code",
   "execution_count": 1,
   "metadata": {},
   "outputs": [],
   "source": [
    "import qucat as qc\n",
    "import circuitq as cq\n",
    "import networkx as nx\n",
    "import matplotlib.pyplot as plt\n",
    "import numpy as np"
   ]
  },
  {
   "cell_type": "markdown",
   "metadata": {},
   "source": [
    "## QuCat Implementation\n",
    "See details here: https://qucat.org/tutorials/basics.html#"
   ]
  },
  {
   "cell_type": "code",
   "execution_count": 2,
   "metadata": {},
   "outputs": [],
   "source": [
    "cir = qc.Network([\n",
    "qc.C(0,1,100e-15), # transmon\n",
    "qc.J(0,1,8e-9),\n",
    "qc.C(0,2,100e-15), # resonator\n",
    "qc.L(0,2,10e-9),\n",
    "qc.C(1,2,1e-15)]) # coupling capacitor\n",
    "# C(2,3,0.5e-15), # ext. coupl. cap.\n",
    "# R(3,0,50)])"
   ]
  },
  {
   "cell_type": "code",
   "execution_count": 3,
   "metadata": {},
   "outputs": [],
   "source": [
    "H = cir.hamiltonian(\n",
    "    modes = [0,1],# Include modes 0 and 1\n",
    "    taylor = 10,# Taylor the Josephson potential to the power 4\n",
    "    excitations = [50,50])"
   ]
  },
  {
   "cell_type": "code",
   "execution_count": 4,
   "metadata": {},
   "outputs": [],
   "source": [
    "evals_qucat = H.eigenenergies()"
   ]
  },
  {
   "cell_type": "code",
   "execution_count": 5,
   "metadata": {},
   "outputs": [],
   "source": [
    "evals_qucat_scaled = 6.62607015e-34*evals_qucat"
   ]
  },
  {
   "cell_type": "code",
   "execution_count": null,
   "metadata": {},
   "outputs": [],
   "source": []
  },
  {
   "cell_type": "markdown",
   "metadata": {},
   "source": [
    "## CircuitQ Implementation"
   ]
  },
  {
   "cell_type": "code",
   "execution_count": 6,
   "metadata": {},
   "outputs": [],
   "source": [
    "graph = nx.MultiGraph()\n",
    "graph.add_edge(0,1, element = 'C')\n",
    "graph.add_edge(0,1, element = 'J')\n",
    "graph.add_edge(0,2, element = 'C')\n",
    "graph.add_edge(0,2, element = 'L')\n",
    "graph.add_edge(1,2, element = 'C');"
   ]
  },
  {
   "cell_type": "code",
   "execution_count": 7,
   "metadata": {},
   "outputs": [
    {
     "data": {
      "text/latex": [
       "$\\displaystyle - E_{J010} \\cos{\\left(3.03853489761902 \\cdot 10^{15} \\Phi_{1} \\right)} + 0.5 q_{1} \\left(\\frac{C_{12} q_{2}}{C_{01} C_{02} + C_{01} C_{12} + C_{02} C_{12}} + \\frac{q_{1} \\left(C_{02} + C_{12}\\right)}{C_{01} C_{02} + C_{01} C_{12} + C_{02} C_{12}}\\right) + 0.5 q_{2} \\left(\\frac{C_{12} q_{1}}{C_{01} C_{02} + C_{01} C_{12} + C_{02} C_{12}} + \\frac{q_{2} \\left(C_{01} + C_{12}\\right)}{C_{01} C_{02} + C_{01} C_{12} + C_{02} C_{12}}\\right) + \\frac{\\Phi_{2}^{2}}{2 L_{020}}$"
      ],
      "text/plain": [
       "-E_{J010}*cos(3.03853489761902e+15*\\Phi_{1}) + 0.5*q_{1}*(C_{12}*q_{2}/(C_{01}*C_{02} + C_{01}*C_{12} + C_{02}*C_{12}) + q_{1}*(C_{02} + C_{12})/(C_{01}*C_{02} + C_{01}*C_{12} + C_{02}*C_{12})) + 0.5*q_{2}*(C_{12}*q_{1}/(C_{01}*C_{02} + C_{01}*C_{12} + C_{02}*C_{12}) + q_{2}*(C_{01} + C_{12})/(C_{01}*C_{02} + C_{01}*C_{12} + C_{02}*C_{12})) + \\Phi_{2}**2/(2*L_{020})"
      ]
     },
     "execution_count": 7,
     "metadata": {},
     "output_type": "execute_result"
    }
   ],
   "source": [
    "circuit = cq.CircuitQ(graph, ground_nodes=[0])\n",
    "circuit.h"
   ]
  },
  {
   "cell_type": "code",
   "execution_count": 8,
   "metadata": {},
   "outputs": [
    {
     "data": {
      "text/plain": [
       "[C_{01}, C_{02}, C_{12}, E_{J010}, L_{020}]"
      ]
     },
     "execution_count": 8,
     "metadata": {},
     "output_type": "execute_result"
    }
   ],
   "source": [
    "circuit.h_parameters"
   ]
  },
  {
   "cell_type": "code",
   "execution_count": 9,
   "metadata": {},
   "outputs": [],
   "source": [
    "h_num = circuit.get_numerical_hamiltonian(100,  grid_length=np.pi*circuit.phi_0,\n",
    "            parameter_values=[100e-15,100e-15, 1e-15, (circuit.phi_0**2)/8e-9, 10e-9])"
   ]
  },
  {
   "cell_type": "code",
   "execution_count": 10,
   "metadata": {},
   "outputs": [],
   "source": [
    "evals, estates = circuit.get_eigensystem()"
   ]
  },
  {
   "cell_type": "code",
   "execution_count": null,
   "metadata": {},
   "outputs": [],
   "source": []
  },
  {
   "cell_type": "markdown",
   "metadata": {},
   "source": [
    "## Compare"
   ]
  },
  {
   "cell_type": "code",
   "execution_count": 14,
   "metadata": {},
   "outputs": [
    {
     "name": "stderr",
     "output_type": "stream",
     "text": [
      "/Users/philipp/miniconda3/lib/python3.6/site-packages/numpy/core/_asarray.py:83: ComplexWarning: Casting complex values to real discards the imaginary part\n",
      "  return array(a, dtype, copy=False, order=order)\n"
     ]
    },
    {
     "data": {
      "image/png": "[encoded data removed]",
      "text/plain": [
       "<Figure size 720x576 with 1 Axes>"
      ]
     },
     "metadata": {
      "needs_background": "light"
     },
     "output_type": "display_data"
    }
   ],
   "source": [
    "cutoff = 30\n",
    "plt.figure(figsize=(10,8))\n",
    "plt.plot(evals_qucat_scaled[:cutoff]-np.min(evals_qucat_scaled[:cutoff]), '<', label=\"Qucat\")\n",
    "plt.plot(evals[:cutoff]-np.min(evals[:cutoff]),'>' , label=\"CircuitQ\")\n",
    "plt.legend()\n",
    "plt.show()"
   ]
  },
  {
   "cell_type": "code",
   "execution_count": null,
   "metadata": {},
   "outputs": [],
   "source": []
  },
  {
   "cell_type": "code",
   "execution_count": null,
   "metadata": {},
   "outputs": [],
   "source": []
  }
 ],
 "metadata": {
  "kernelspec": {
   "display_name": "Python 3",
   "language": "python",
   "name": "python3"
  },
  "language_info": {
   "codemirror_mode": {
    "name": "ipython",
    "version": 3
   },
   "file_extension": ".py",
   "mimetype": "text/x-python",
   "name": "python",
   "nbconvert_exporter": "python",
   "pygments_lexer": "ipython3",
   "version": "3.6.12"
  }
 },
 "nbformat": 4,
 "nbformat_minor": 4
}
