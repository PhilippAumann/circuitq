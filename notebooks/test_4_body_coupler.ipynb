{
 "cells": [
  {
   "cell_type": "markdown",
   "metadata": {},
   "source": [
    "# Testing CircuitQ"
   ]
  },
  {
   "cell_type": "code",
   "execution_count": 1,
   "metadata": {
    "pycharm": {
     "name": "#%%\n"
    }
   },
   "outputs": [],
   "source": [
    "import circuitq as cq\n",
    "import os\n",
    "import numpy as np\n",
    "import networkx as nx\n",
    "import scqubits as sc\n",
    "import matplotlib.pyplot as plt\n",
    "from tqdm import tqdm\n",
    "plt.style.use({'figure.facecolor':'white'})"
   ]
  },
  {
   "cell_type": "markdown",
   "metadata": {},
   "source": [
    "## Tim's 4-body coupler ([ArXiv Version](https://arxiv.org/pdf/1912.03322.pdf))"
   ]
  },
  {
   "cell_type": "markdown",
   "metadata": {},
   "source": [
    "## Tim's Code"
   ]
  },
  {
   "cell_type": "code",
   "execution_count": 2,
   "metadata": {},
   "outputs": [
    {
     "name": "stdout",
     "output_type": "stream",
     "text": [
      "*starting calculating evals\n",
      "done calculating evals\n",
      "Normalized eigen-energies at operating point (in GHz): [ 0.          0.87940876  3.99130996  6.89864933 10.23719534]\n",
      "Input [ 0.     0.    85.677  4.455 16.832 70.556] 289.395 120.416 3.75498 0.395517 0.373288\n",
      "*starting calculating evals\n",
      "done calculating evals\n",
      "*starting calculating evals\n",
      "done calculating evals\n",
      "*starting calculating evals\n",
      "done calculating evals\n",
      "*starting calculating evals\n",
      "done calculating evals\n",
      "*starting calculating evals\n",
      "done calculating evals\n"
     ]
    }
   ],
   "source": [
    "\"\"\" Simulate circuit C from automated discovery results \"\"\"\n",
    "import numpy.linalg\n",
    "import scipy as sp\n",
    "import scipy.sparse.linalg\n",
    "import qutip as qt\n",
    "import csv\n",
    "\n",
    "# Identity\n",
    "def I(n):\n",
    "    return qt.qeye(2*n+1)\n",
    "\n",
    "# Charge operator\n",
    "def Q(n):\n",
    "    return qt.Qobj( np.diag(np.arange(-n,n+1)) )\n",
    "\n",
    "# Displacement operator D^+\n",
    "def Dp(n, k=1):\n",
    "    if 2*n+1-k > 0:\n",
    "        d = np.ones(2*n+1-k)\n",
    "        return qt.Qobj( np.diag(d, k=-k) )\n",
    "    else:\n",
    "        return qt.Qobj( np.zeros((2*n+1, 2*n+1)) )\n",
    "\n",
    "# Displacement operator D^-\n",
    "def Dm(n, k=1):\n",
    "    return Dp(n, k).trans()\n",
    "\n",
    "# phi^2 in terms of displacement operators\n",
    "def Phi_sq(n):\n",
    "    Phi_sq = 0\n",
    "    for k in range(1, 2*n+1):\n",
    "        Phi_sq += (-1)**k / k**2 * ( Dm(n,k) + Dp(n,k) )\n",
    "    Phi_sq = 2 * Phi_sq\n",
    "    return Phi_sq\n",
    "\n",
    "\n",
    "def spec_circuitC(Carr, L13, L23, lj12, lj22, lj33, phiExt=[[0.0,0.5]], normalized=False, trunc=[6,6,8]):\n",
    "\n",
    "    # Initialize spectrum\n",
    "    spec = []\n",
    "\n",
    "    # Calculate spectrum for swept parameter\n",
    "    for p in phiExt:\n",
    "        spec.append( eigs_circuitC(Carr, L13, L23, lj12, lj22, lj33, phiExt_fix=p, trunc=trunc) )\n",
    "    spec = np.array(spec)\n",
    "\n",
    "    # Normalize spectrum by ground state if desired\n",
    "    if normalized:\n",
    "        e0 = np.array([spec[i][0] for i in range(len(spec))])\n",
    "        spec = (spec.T - e0).T\n",
    "\n",
    "    return spec\n",
    "\n",
    "\n",
    "def eigs_circuitC(Carr, L13, L23, lj12, lj22, lj33, phiExt_fix=[0.0,0.5], trunc=[6,6,8]):\n",
    "\n",
    "    # Initialization\n",
    "    n1 = trunc[0]  #node 1 states (oscillator)\n",
    "    n2 = trunc[1]  #node 2 states (oscillator)\n",
    "    n3 = trunc[2]  #node 3 states (charge)\n",
    "    N  = 3  #number of nodes\n",
    "\n",
    "    # Parameters and fundamental constants\n",
    "    Jc      = 5e-6                   #critical current density in A/um^2\n",
    "    wJ      = 0.2                    #junction width in um\n",
    "    Sc      = 60e-15                 #specific capacitance in F/um^2\n",
    "    e       = 1.60217662 * 10**(-19) #elementary charge\n",
    "    h       = 6.62607004 * 10**(-34) #Planck constant\n",
    "    hbar    = h/(2*np.pi)            #reduced Planck constant\n",
    "    Phi0    = 2.06783385 * 10**(-15) #flux quantum\n",
    "    Carr    = Carr * 1e-15           #scale fF -> F\n",
    "    L13     = L13 * 1e-12            #scale pH -> H\n",
    "    L23     = L23 * 1e-12            #scale pH -> H\n",
    "    phi_var = phiExt_fix[0]\n",
    "    phi_fix = phiExt_fix[1]\n",
    "\n",
    "    # Calculate juction energies in GHz\n",
    "    Ej12 = Phi0/(2*np.pi) * Jc*wJ*lj12 * 1/h/1e9\n",
    "    Ej22 = Phi0/(2*np.pi) * Jc*wJ*lj22 * 1/h/1e9\n",
    "    Ej33 = Phi0/(2*np.pi) * Jc*wJ*lj33 * 1/h/1e9\n",
    "\n",
    "    # Construct capacitance connectivity matrix\n",
    "    Carr += np.array([0, Sc*wJ*lj12, 0, Sc*wJ*lj22, 0, Sc*wJ*lj33]) #!!1e15\n",
    "    Cmat, Jmat = np.zeros((N,N)), np.zeros((N,N))\n",
    "    Cmat[np.triu_indices(N,k=0)] = Carr\n",
    "    Cmat = np.maximum(Cmat, Cmat.transpose())\n",
    "\n",
    "    # Maxwell capacitance matrix C (not confused with Capacitance connectivity matrix Cmat)\n",
    "    C = np.diag(np.sum(Cmat, axis=0)) + np.diag(np.diag(Cmat)) - Cmat\n",
    "    Cinv = sp.linalg.inv(C)\n",
    "    #print(Cinv*1e-15)\n",
    "\n",
    "    # Rotation to decouple the oscillator and Josephson terms of H\n",
    "    R = np.array([[1,0,1],[0,1,1],[1,1,1]])\n",
    "    Rinv = np.array([[0, -1, 1], [-1, 0, 1], [1, 1, -1]])\n",
    "    Cinv = Rinv.dot(Cinv.dot(Rinv))\n",
    "    #print(Rinv.dot(R))\n",
    "\n",
    "\n",
    "    # Define operators for node 1,2 (oscillator modes)\n",
    "    I1     = qt.qeye(n1)\n",
    "    a1     = qt.destroy(n1)\n",
    "    adag1  = qt.create(n1)\n",
    "    adaga1 = qt.num(n1)\n",
    "    I2     = qt.qeye(n2)\n",
    "    a2     = qt.destroy(n2)\n",
    "    adag2  = qt.create(n2)\n",
    "    adaga2 = qt.num(n2)\n",
    "\n",
    "    # Define operators for node 3 (charge mode)\n",
    "    I3 = I(n3)\n",
    "    Q3 = Q(n3)\n",
    "    Dp3 = Dp(n3)\n",
    "    Dm3 = Dm(n3)\n",
    "\n",
    "    ### Oscillator Hamiltonian (in GHz) ###\n",
    "    # Initialization of harmonic oscillator parameters and derived operators\n",
    "    #-- mode 1 --\n",
    "    f1     = np.sqrt(Cinv[0,0]/L23) / (2*np.pi) / 1.e9 #frequency of oscillator in GHz\n",
    "    Z1     = np.sqrt(Cinv[0,0]*L23)                   #impedance of oscillator\n",
    "    alpha1 = 2.*np.pi/Phi0 * np.sqrt(h*Z1/(4.*np.pi))   #displacement parameter\n",
    "    Do1    = qt.displace(n1, 1.j*alpha1)                  #quantum optical displacement operator\n",
    "    #-- mode 2 --\n",
    "    f2     = np.sqrt(Cinv[1,1]/L13) / (2.*np.pi) / 1.e9 #frequency of oscillator in GHz\n",
    "    Z2     = np.sqrt(Cinv[1,1]*L13)                   #impedance of oscillator\n",
    "    alpha2 = 2.*np.pi/Phi0 * np.sqrt(h*Z2/(4.*np.pi))   #displacement parameter\n",
    "    Do2    = qt.displace(n2, 1.j*alpha2)                  #quantum optical displacement operator\n",
    "    # Assemble oscillator Hamiltonian\n",
    "    Ho = f1 * qt.tensor(adaga1, I2, I3) + f2 * qt.tensor(I1, adaga2, I3)                     \\\n",
    "         - Cinv[0,1]/(4.*np.pi*np.sqrt(Z1*Z2)) / 1.e9 * qt.tensor(a1-adag1, a2-adag2, I3) \\\n",
    "         - 1.0*Ej12/2. * ( np.exp(2.*np.pi*1.j*phi_var) * qt.tensor(Do1.dag(), Do2.dag(), I3) + \\\n",
    "                      np.exp(-2.*np.pi*1.j*phi_var) * qt.tensor(Do1, Do2, I3) )\n",
    "\n",
    "    ### Josephson Hamiltonian (in GHz) ###\n",
    "    Hj = 1.0*Cinv[2,2]/2. * (2.*e)**2 / h / 1.e9 * qt.tensor(I1, I2, Q3**2)\n",
    "\n",
    "    ### Interaction Hamiltonian ###\n",
    "    Hint = -1.j * Cinv[0,2]/np.sqrt(4.*np.pi*Z1*h) / 1.e9 * (2.*e) * qt.tensor(a1-adag1, I2, Q3) \\\n",
    "           -1.j * Cinv[1,2]/np.sqrt(4.*np.pi*Z2*h) / 1.e9 * (2.*e) * qt.tensor(I1, a2-adag2, Q3) \\\n",
    "           -1.0*Ej22/2. * ( np.exp(-2.*np.pi*1.j*phi_fix) * qt.tensor(I1, Do2.dag(), Dm3)        \\\n",
    "                            + np.exp(2.*np.pi*1.j*phi_fix) * qt.tensor(I1, Do2, Dp3) )           \\\n",
    "           -1.0*Ej33/2. * ( np.exp(0.) * qt.tensor(Do1.dag(), Do2.dag(), Dm3)                    \\\n",
    "                            + np.exp(0.) * qt.tensor(Do1, Do2, Dp3) )\n",
    "\n",
    "    # Assemble full Hamiltonian\n",
    "    H = 1.0*Ho + 1.0*Hj + 1.0*Hint\n",
    "\n",
    "    # print('H.dims:', H.dims)\n",
    "    # print('H.isherm:', H.isherm)\n",
    "    print('*', end='')\n",
    "\n",
    "    print(\"starting calculating evals\")\n",
    "    evals, state = H.tidyup().eigenstates(eigvals=5, sparse=True)\n",
    "    print(\"done calculating evals\")\n",
    "    \n",
    "    # # Visualize eigenstate state population\n",
    "    # #print(abs(state[0].full().T[0]))\n",
    "    # plt.figure()\n",
    "    # for s in state:\n",
    "    # \tplt.plot(abs(s.full().T[0]))\n",
    "    # plt.show()\n",
    "\n",
    "    return evals\n",
    "\n",
    "# Qubit parameters (Jc, Sc defined in function above)\n",
    "Carr = np.array([0., 0., 85.677, 4.455, 16.832, 70.556]) #in fF #np.array([0., 0., 98.847, 14.99, 38.666, 67.457])\n",
    "L13  = 289.395  #in pH #293.268\n",
    "L23  = 120.416  #in pH #98.07\n",
    "lj12 = 3.75498  #in um #3.7549\n",
    "lj22 = 0.395517 #in um #0.376366\n",
    "lj33 = 0.373288 #in um #0.386997\n",
    "\n",
    "# Truncation setting\n",
    "trunc = [12,12,12 ] #[6,6,8] #[12,12,12]\n",
    "\n",
    "# Single flux at operating point\n",
    "evals = spec_circuitC(Carr, L13, L23, lj12, lj22, lj33, trunc=trunc)\n",
    "print('Normalized eigen-energies at operating point (in GHz):', evals[0]-evals[0,0])\n",
    "print(\"Input\", Carr, L13, L23, lj12, lj22, lj33)\n",
    "\n",
    "# # Effect of truncation\n",
    "# xdata = np.arange(6,15,1)\n",
    "# ydata = []\n",
    "# for p in xdata:\n",
    "# \ttrunc = [p,p,10]\n",
    "# \tevals = spec_circuitC(Carr, L13, L23, lj12, lj22, lj33, trunc=trunc)\n",
    "# \tydata.append( evals[0,1]-evals[0,0] )\n",
    "# plt.figure()\n",
    "# plt.plot(xdata, ydata)\n",
    "# plt.show()\n",
    "\n",
    "# Spectrum\n",
    "phiVar = np.linspace(0.0-1*0.025, 0.0+1*0.025, 5, endpoint=True)\n",
    "# phiVar = np.linspace(0.0-0.5, 0.0+0.5, 21, endpoint=True)\n",
    "phiExt = [[p, 0.5] for p in phiVar]\n",
    "spec = spec_circuitC(Carr, L13, L23, lj12, lj22, lj33, phiExt=phiExt, trunc=trunc)\n"
   ]
  },
  {
   "cell_type": "code",
   "execution_count": 45,
   "metadata": {},
   "outputs": [
    {
     "data": {
      "image/png": "[encoded data removed]",
      "text/plain": [
       "<Figure size 450x300 with 1 Axes>"
      ]
     },
     "metadata": {},
     "output_type": "display_data"
    }
   ],
   "source": [
    "plt.figure(figsize=(3,2))\n",
    "plt.plot(phiVar, spec[:,:5]-np.min(spec))\n",
    "plt.show()"
   ]
  },
  {
   "cell_type": "code",
   "execution_count": 46,
   "metadata": {},
   "outputs": [
    {
     "data": {
      "text/plain": [
       "array([[-1844.98437698, -1839.29068851, -1835.2746272 , -1832.47302609,\n",
       "        -1829.17318398],\n",
       "       [-1845.06202656, -1840.84359636, -1838.86858267, -1835.73811434,\n",
       "        -1832.45329447],\n",
       "       [-1843.778482  , -1842.89907324, -1839.78717204, -1836.87983267,\n",
       "        -1833.54128666],\n",
       "       [-1845.06202656, -1840.84359636, -1838.86858267, -1835.73811434,\n",
       "        -1832.45329447],\n",
       "       [-1844.98437698, -1839.29068851, -1835.2746272 , -1832.47302609,\n",
       "        -1829.17318398]])"
      ]
     },
     "execution_count": 46,
     "metadata": {},
     "output_type": "execute_result"
    }
   ],
   "source": [
    "spec"
   ]
  },
  {
   "cell_type": "markdown",
   "metadata": {},
   "source": [
    "## Compare\n",
    "### Determine parameter values"
   ]
  },
  {
   "cell_type": "code",
   "execution_count": 4,
   "metadata": {},
   "outputs": [],
   "source": [
    "# Qubit parameters \n",
    "Carr = np.array([0., 0., 85.677, 4.455, 16.832, 70.556]) #in fF \n",
    "L13  = 289.395  #in pH \n",
    "L23  = 120.416  #in pH \n",
    "lj12 = 3.75498  #in um \n",
    "lj22 = 0.395517 #in um \n",
    "lj33 = 0.373288 #in um \n",
    "\n",
    "# Parameters and fundamental constants\n",
    "N       = 3                      #number of nodes\n",
    "Jc      = 5e-6                   #critical current density in A/um^2\n",
    "wJ      = 0.2                    #junction width in um\n",
    "Sc      = 60e-15                 #specific capacitance in F/um^2\n",
    "e       = 1.60217662 * 10**(-19) #elementary charge\n",
    "h       = 6.62607004 * 10**(-34) #Planck constant\n",
    "hbar    = h/(2*np.pi)            #reduced Planck constant\n",
    "Phi0    = 2.06783385 * 10**(-15) #flux quantum\n",
    "Carr    = Carr * 1e-15           #scale fF -> F\n",
    "L13     = L13 * 1e-12            #scale pH -> H\n",
    "L23     = L23 * 1e-12            #scale pH -> H\n",
    "\n",
    "# Calculate juction energies in Hz\n",
    "Ej12 = Phi0/(2*np.pi) * Jc*wJ*lj12 \n",
    "Ej22 = Phi0/(2*np.pi) * Jc*wJ*lj22 \n",
    "Ej33 = Phi0/(2*np.pi) * Jc*wJ*lj33\n",
    "\n",
    "# Construct capacitance connectivity matrix\n",
    "Carr += np.array([0, Sc*wJ*lj12, 0, Sc*wJ*lj22, 0, Sc*wJ*lj33]) #!!1e15\n"
   ]
  },
  {
   "cell_type": "markdown",
   "metadata": {},
   "source": [
    "## Create CircuitQ instance"
   ]
  },
  {
   "cell_type": "code",
   "execution_count": 23,
   "metadata": {},
   "outputs": [
    {
     "data": {
      "text/plain": [
       "[C_{02},\n",
       " C_{03},\n",
       " C_{21},\n",
       " C_{23},\n",
       " C_{31},\n",
       " E_{J020},\n",
       " E_{J030},\n",
       " E_{J210},\n",
       " L_{230},\n",
       " L_{310},\n",
       " \\tilde{\\Phi}_{230},\n",
       " \\tilde{\\Phi}_{310}]"
      ]
     },
     "execution_count": 23,
     "metadata": {},
     "output_type": "execute_result"
    }
   ],
   "source": [
    "graph = nx.MultiGraph()\n",
    "graph.add_edge(0,2, element = 'C')\n",
    "graph.add_edge(0,2, element = 'J')\n",
    "graph.add_edge(2,3, element = 'L')\n",
    "graph.add_edge(2,3, element = 'C')\n",
    "graph.add_edge(0,3, element = 'C')\n",
    "graph.add_edge(0,3, element = 'J')\n",
    "graph.add_edge(2,1, element = 'C')\n",
    "graph.add_edge(2,1, element = 'J')\n",
    "graph.add_edge(1,3, element = 'L')\n",
    "graph.add_edge(1,3, element = 'C')\n",
    "\n",
    "main_dir = os.path.abspath('..')\n",
    "figure_path = os.path.join(main_dir, 'figures/4_body_coupler/circuit')\n",
    "cq.visualize_circuit_general(graph,figure_path)\n",
    "\n",
    "circuit = cq.CircuitQ(graph, ground_nodes=[0])\n",
    "circuit.h_parameters"
   ]
  },
  {
   "cell_type": "markdown",
   "metadata": {},
   "source": [
    "### Loop over external flux"
   ]
  },
  {
   "cell_type": "code",
   "execution_count": 24,
   "metadata": {},
   "outputs": [],
   "source": [
    "# eigv_list = []\n",
    "# phi_ex_list = np.linspace(-0.025*circuit.phi_0, 0.025*circuit.phi_0, 5, endpoint=True)\n",
    "# for phi_ex in tqdm(phi_ex_list):\n",
    "#     circuit = cq.CircuitQ(graph, ground_nodes=[0])\n",
    "#     print(circuit.h_parameters)\n",
    "#     circuit.get_numerical_hamiltonian(30, \n",
    "#     parameter_values=[4.455*1e-15+Sc*wJ*lj22, 70.556*1e-15+Sc*wJ*lj33, Sc*wJ*lj12, 16.832*1e-15, 85.677*1e-15,   \n",
    "#                      Ej22, Ej33, Ej12, L23, L13, 0.5*circuit.phi_0, phi_ex])\n",
    "#     eigv, eigs = circuit.get_eigensystem(30)\n",
    "#     eigv_list.append(eigv)\n",
    "#     print(eigv)   "
   ]
  },
  {
   "cell_type": "code",
   "execution_count": 25,
   "metadata": {},
   "outputs": [],
   "source": [
    "# eigv_list = np.array(eigv_list)\n",
    "# plt.figure(figsize=(3,2))\n",
    "# plt.plot(phi_ex_list/(circuit.phi_0), eigv_list[:,:30]-np.min(eigv_list))\n",
    "# plt.show()"
   ]
  },
  {
   "cell_type": "code",
   "execution_count": 26,
   "metadata": {},
   "outputs": [],
   "source": [
    "# circuit.h_imp"
   ]
  },
  {
   "cell_type": "code",
   "execution_count": 27,
   "metadata": {},
   "outputs": [],
   "source": [
    "# circuit.loop_fluxes"
   ]
  },
  {
   "cell_type": "markdown",
   "metadata": {},
   "source": [
    "### Eigenvalues as a function of dimension\n",
    "\n",
    "#### Calculating Tims reference energies"
   ]
  },
  {
   "cell_type": "code",
   "execution_count": 28,
   "metadata": {},
   "outputs": [],
   "source": [
    "# Qubit parameters (Jc, Sc defined in function above)\n",
    "Carr = np.array([0., 0., 85.677, 4.455, 16.832, 70.556]) #in fF #np.array([0., 0., 98.847, 14.99, 38.666, 67.457])\n",
    "L13  = 289.395  #in pH #293.268\n",
    "L23  = 120.416  #in pH #98.07\n",
    "lj12 = 3.75498  #in um #3.7549\n",
    "lj22 = 0.395517 #in um #0.376366\n",
    "lj33 = 0.373288 #in um #0.386997\n",
    "\n",
    "# Truncation setting\n",
    "trunc = [12,12,12 ] #[6,6,8] #[12,12,12]"
   ]
  },
  {
   "cell_type": "code",
   "execution_count": 29,
   "metadata": {},
   "outputs": [
    {
     "name": "stdout",
     "output_type": "stream",
     "text": [
      "*starting calculating evals\n",
      "done calculating evals\n"
     ]
    }
   ],
   "source": [
    "evals_tim = spec_circuitC(Carr, L13, L23, lj12, lj22, lj33,  phiExt=[[0.02,0.5]], trunc=trunc)"
   ]
  },
  {
   "cell_type": "markdown",
   "metadata": {},
   "source": [
    "#### Calculating CircuitQ reference energies"
   ]
  },
  {
   "cell_type": "code",
   "execution_count": 30,
   "metadata": {},
   "outputs": [],
   "source": [
    "# Parameters and fundamental constants\n",
    "N       = 3                      #number of nodes\n",
    "Jc      = 5e-6                   #critical current density in A/um^2\n",
    "wJ      = 0.2                    #junction width in um\n",
    "Sc      = 60e-15                 #specific capacitance in F/um^2\n",
    "e       = 1.60217662 * 10**(-19) #elementary charge\n",
    "h       = 6.62607004 * 10**(-34) #Planck constant\n",
    "hbar    = h/(2*np.pi)            #reduced Planck constant\n",
    "Phi0    = 2.06783385 * 10**(-15) #flux quantum\n",
    "Carr    = Carr * 1e-15           #scale fF -> F\n",
    "L13     = L13 * 1e-12            #scale pH -> H\n",
    "L23     = L23 * 1e-12            #scale pH -> H\n",
    "\n",
    "# Calculate juction energies in Hz\n",
    "Ej12 = Phi0/(2*np.pi) * Jc*wJ*lj12 \n",
    "Ej22 = Phi0/(2*np.pi) * Jc*wJ*lj22 \n",
    "Ej33 = Phi0/(2*np.pi) * Jc*wJ*lj33\n"
   ]
  },
  {
   "cell_type": "code",
   "execution_count": 31,
   "metadata": {},
   "outputs": [
    {
     "name": "stdout",
     "output_type": "stream",
     "text": [
      "Dimension 10\n",
      "Dimension 20\n",
      "Dimension 30\n",
      "Dimension 50\n"
     ]
    }
   ],
   "source": [
    "eigv_list = []\n",
    "dim_list = np.array([10, 20, 30])# 50, 60, 70, 80])\n",
    "for dim in dim_list:\n",
    "    circuit = cq.CircuitQ(graph, ground_nodes=[0])\n",
    "    print(\"Dimension\", dim)\n",
    "    circuit.get_numerical_hamiltonian(dim, \n",
    "    parameter_values=[4.455*1e-15+Sc*wJ*lj22, 70.556*1e-15+Sc*wJ*lj33, Sc*wJ*lj12, 16.832*1e-15, 85.677*1e-15,   \n",
    "                     Ej22, Ej33, Ej12, L23, L13, 0.5*circuit.phi_0, 0.02*circuit.phi_0])\n",
    "    eigv, eigs = circuit.get_eigensystem(10)\n",
    "    eigv_list.append(eigv)"
   ]
  },
  {
   "cell_type": "code",
   "execution_count": 40,
   "metadata": {},
   "outputs": [
    {
     "data": {
      "text/plain": [
       "(-5e-24, 1e-22)"
      ]
     },
     "execution_count": 40,
     "metadata": {},
     "output_type": "execute_result"
    },
    {
     "data": {
      "image/png": "[encoded data removed]",
      "text/plain": [
       "<Figure size 600x450 with 1 Axes>"
      ]
     },
     "metadata": {},
     "output_type": "display_data"
    }
   ],
   "source": [
    "plt.figure(figsize=(4,3))\n",
    "#plt.plot(dim_list, h*(evals_tim-np.min(evals_tim))*10**9 , '-')\n",
    "evals_tim_scaled = h*(evals_tim[0]-np.min(evals_tim[0]))*1e9\n",
    "for ev in evals_tim_scaled:\n",
    "    plt.axhline(y=ev)\n",
    "eigv_list_scaled = [eigvs - np.min(eigvs) for eigvs in eigv_list]\n",
    "plt.plot(dim_list, eigv_list_scaled, '.')\n",
    "plt.ylim(-0.05e-22,1e-22)"
   ]
  },
  {
   "cell_type": "code",
   "execution_count": 33,
   "metadata": {},
   "outputs": [],
   "source": [
    "differences_dim = []\n",
    "for n, dim in enumerate(dim_list):\n",
    "    differences = []\n",
    "    for l, eigv in enumerate(eigv_list_scaled[n]):\n",
    "        if l>4:\n",
    "            break\n",
    "        differences.append(abs(eigv - evals_tim_scaled[l]))\n",
    "    differences_dim.append(sum(differences))    "
   ]
  },
  {
   "cell_type": "code",
   "execution_count": 34,
   "metadata": {},
   "outputs": [
    {
     "data": {
      "image/png": "[encoded data removed]",
      "text/plain": [
       "<Figure size 900x600 with 1 Axes>"
      ]
     },
     "metadata": {},
     "output_type": "display_data"
    }
   ],
   "source": [
    "plt.plot(dim_list, np.array(differences_dim)/(abs(h*evals_tim[0][0]*1e9)) )\n",
    "plt.xlabel(\"Dimension\")\n",
    "plt.ylabel(r\"Summed difference of eigenvalues [groundstate]\")\n",
    "plt.show()"
   ]
  },
  {
   "cell_type": "code",
   "execution_count": 35,
   "metadata": {},
   "outputs": [
    {
     "data": {
      "text/plain": [
       "array([[-1845.23484281, -1839.96817368, -1836.83051225, -1834.07185396,\n",
       "        -1830.74046802]])"
      ]
     },
     "execution_count": 35,
     "metadata": {},
     "output_type": "execute_result"
    }
   ],
   "source": [
    "evals_tim"
   ]
  },
  {
   "cell_type": "code",
   "execution_count": 36,
   "metadata": {},
   "outputs": [
    {
     "data": {
      "text/plain": [
       "array([0.00000000e+00, 3.48973185e-24, 5.56876829e-24, 7.39667460e-24,\n",
       "       9.60407426e-24])"
      ]
     },
     "execution_count": 36,
     "metadata": {},
     "output_type": "execute_result"
    }
   ],
   "source": [
    "evals_tim_scaled"
   ]
  },
  {
   "cell_type": "code",
   "execution_count": 43,
   "metadata": {},
   "outputs": [
    {
     "data": {
      "text/plain": [
       "0.9967479674796748"
      ]
     },
     "execution_count": 43,
     "metadata": {},
     "output_type": "execute_result"
    }
   ],
   "source": [
    "1839/1845"
   ]
  },
  {
   "cell_type": "code",
   "execution_count": 38,
   "metadata": {},
   "outputs": [
    {
     "data": {
      "text/plain": [
       "[array([0.00000000e+00, 2.24790466e-29, 2.53387894e-29, 1.74831348e-22,\n",
       "        1.74831348e-22, 1.74831371e-22, 1.74831371e-22, 4.57714441e-22,\n",
       "        4.57714441e-22, 4.57714441e-22]),\n",
       " array([0.00000000e+00, 1.30338814e-34, 1.18349598e-27, 1.74831182e-22,\n",
       "        1.74831182e-22, 1.74831226e-22, 1.74831226e-22, 1.74831226e-22,\n",
       "        4.57713351e-22, 4.57714074e-22]),\n",
       " array([0.00000000e+00, 2.18441549e-23, 2.18692988e-23, 8.36864224e-23,\n",
       "        9.83618253e-23, 1.19566162e-22, 1.72471360e-22, 1.74964466e-22,\n",
       "        2.60850808e-22, 2.79499934e-22]),\n",
       " array([0.00000000e+00, 8.18515194e-24, 2.93544384e-23, 5.35883213e-23,\n",
       "        6.75500473e-23, 8.50312381e-23, 1.11203786e-22, 1.68794499e-22,\n",
       "        1.70602011e-22, 1.73204792e-22])]"
      ]
     },
     "execution_count": 38,
     "metadata": {},
     "output_type": "execute_result"
    }
   ],
   "source": [
    "[eigvs - np.min(eigvs) for eigvs in eigv_list]"
   ]
  },
  {
   "cell_type": "code",
   "execution_count": null,
   "metadata": {},
   "outputs": [],
   "source": []
  }
 ],
 "metadata": {
  "kernelspec": {
   "display_name": "Python 3",
   "language": "python",
   "name": "python3"
  },
  "language_info": {
   "codemirror_mode": {
    "name": "ipython",
    "version": 3
   },
   "file_extension": ".py",
   "mimetype": "text/x-python",
   "name": "python",
   "nbconvert_exporter": "python",
   "pygments_lexer": "ipython3",
   "version": "3.6.12"
  }
 },
 "nbformat": 4,
 "nbformat_minor": 2
}
